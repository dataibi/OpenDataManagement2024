{
 "cells": [
  {
   "cell_type": "markdown",
   "metadata": {},
   "source": [
    "## Moduli"
   ]
  },
  {
   "cell_type": "markdown",
   "metadata": {},
   "source": [
    "Un modulo è un file contenente definizioni e istruzioni Python.\n",
    "Le definizioni di un modulo possono essere *importate* in altri moduli o nel modulo principale.\n",
    "\n",
    "### Python - librerie standard\n",
    "\n",
    "* os e sys: strumenti per interfacciarsi con il sistema operativo, tra cui la navigazione delle directory dei file e l'esecuzione dei comandi della shell\n",
    "* math e cmath: funzioni matematiche e operazioni su numeri reali e complessi\n",
    "* itertools: strumenti per costruire e interagire con iteratori e generatori\n",
    "* random: strumenti per generare numeri pseudocasuali\n",
    "* pickle: strumenti per la persistenza degli oggetti: salvataggio degli oggetti e caricamento degli oggetti dal disco\n",
    "* json e csv: strumenti per leggere i file con formattazione JSON e CSV.\n",
    "* urllib: strumenti per fare richieste HTTP e altre operazioni Web.\n",
    "\n",
    "Documentazione relativa alle librerie standard di Python: https://docs.python.org/3/library/"
   ]
  },
  {
   "cell_type": "code",
   "execution_count": null,
   "metadata": {},
   "outputs": [],
   "source": [
    "import math"
   ]
  },
  {
   "cell_type": "markdown",
   "metadata": {},
   "source": [
    "Questo non aggiunge i nomi delle funzioni definite in math direttamente allo spazio dei nomi corrente ma aggiunge solo il nome del modulo math. \n",
    "\n",
    "Con dir() mostriamo cosa è presente nello spazio dei nomi globali. "
   ]
  },
  {
   "cell_type": "code",
   "execution_count": null,
   "metadata": {},
   "outputs": [],
   "source": [
    "dir()"
   ]
  },
  {
   "cell_type": "markdown",
   "metadata": {},
   "source": [
    "Per vedere cosa contiene lo spazio dei nomi math usiamo dir(math)."
   ]
  },
  {
   "cell_type": "code",
   "execution_count": null,
   "metadata": {},
   "outputs": [],
   "source": [
    "dir(math)"
   ]
  },
  {
   "cell_type": "markdown",
   "metadata": {},
   "source": [
    "Utilizzando il nome del modulo è possibile accedere alle funzioni:"
   ]
  },
  {
   "cell_type": "code",
   "execution_count": null,
   "metadata": {},
   "outputs": [],
   "source": [
    "math.cos(math.pi)"
   ]
  },
  {
   "cell_type": "markdown",
   "metadata": {},
   "source": [
    "**Nota** È consuetudine ma non obbligatorio inserire tutte le istruzioni *import* all'inizio di uno script. I nomi dei moduli importati vengono aggiunti allo spazio dei nomi globale."
   ]
  },
  {
   "cell_type": "markdown",
   "metadata": {},
   "source": [
    "**Nota**: Per ragioni di efficienza, ogni modulo viene importato solo una volta ad ogni sessione dell'interprete. Pertanto, se i moduli vengono modificati occorre riavviare l'interprete – o, se ad esempio si sta testando un modulo si può usare ad esempio: *importlib.reload()*"
   ]
  },
  {
   "cell_type": "code",
   "execution_count": null,
   "metadata": {},
   "outputs": [],
   "source": [
    "import importlib\n",
    "importlib.reload(nomemodulo)"
   ]
  },
  {
   "cell_type": "markdown",
   "metadata": {},
   "source": [
    "Uso di alias:"
   ]
  },
  {
   "cell_type": "code",
   "execution_count": null,
   "metadata": {},
   "outputs": [],
   "source": [
    "import numpy as np\n",
    "\n",
    "np.cos(np.pi)"
   ]
  },
  {
   "cell_type": "markdown",
   "metadata": {},
   "source": [
    "A volte invece di importare tutto lo spazio dei nomi del modulo, si vuole solo importare alcuni elementi particolari del modulo."
   ]
  },
  {
   "cell_type": "code",
   "execution_count": null,
   "metadata": {},
   "outputs": [],
   "source": [
    "from math import cos, pi\n",
    "cos(pi)"
   ]
  },
  {
   "cell_type": "markdown",
   "metadata": {},
   "source": [
    "A volte potrebbe essere utile importare l'intero contenuto del modulo nello spazio dei nomi locale:"
   ]
  },
  {
   "cell_type": "code",
   "execution_count": null,
   "metadata": {},
   "outputs": [],
   "source": [
    "from math import *\n",
    "sin(pi) ** 2 + cos(pi) ** 2"
   ]
  },
  {
   "cell_type": "code",
   "execution_count": null,
   "metadata": {},
   "outputs": [],
   "source": [
    "help(sum)"
   ]
  },
  {
   "cell_type": "code",
   "execution_count": null,
   "metadata": {},
   "outputs": [],
   "source": [
    "sum(range(3), -1)"
   ]
  },
  {
   "cell_type": "code",
   "execution_count": null,
   "metadata": {},
   "outputs": [],
   "source": [
    "from numpy import *"
   ]
  },
  {
   "cell_type": "code",
   "execution_count": null,
   "metadata": {},
   "outputs": [],
   "source": [
    "sum(range(3), -1)"
   ]
  },
  {
   "cell_type": "markdown",
   "metadata": {},
   "source": [
    "**Nota** Il risultato è differente! Ciò dipende dal fatto che l'istruzione import ``*`` sostituisce la funzione *sum* con la funzione *numpy.sum*, che ha una *signature* differente. Nel primo, stiamo sommando il range(3) a partire dal penultimo; nel secondo, stiamo sommando il range (3) lungo l'ultimo asse (indicato da -1). "
   ]
  },
  {
   "cell_type": "code",
   "execution_count": null,
   "metadata": {},
   "outputs": [],
   "source": [
    "help(sum)"
   ]
  },
  {
   "cell_type": "code",
   "execution_count": null,
   "metadata": {},
   "outputs": [],
   "source": [
    "def sum(x):\n",
    "    return 2"
   ]
  },
  {
   "cell_type": "code",
   "execution_count": null,
   "metadata": {},
   "outputs": [],
   "source": [
    "sum(10)"
   ]
  },
  {
   "cell_type": "markdown",
   "metadata": {},
   "source": [
    "Come ottengo di nuovo la mia funzione sum?"
   ]
  },
  {
   "cell_type": "code",
   "execution_count": null,
   "metadata": {},
   "outputs": [],
   "source": [
    "del(sum)"
   ]
  },
  {
   "cell_type": "markdown",
   "metadata": {},
   "source": [
    "**Suggerimento**: Per questo motivo, è meglio evitare l'uso di _import *_ a meno che non sappiate esattamente cosa state importando."
   ]
  },
  {
   "cell_type": "markdown",
   "metadata": {},
   "source": [
    "**Proviamo a creare un nostro modulo**\n",
    "\n",
    "Qualunque file sorgente Python source è un modulo che possiamo importare e usare.\n",
    "\n",
    "Quando un modulo viene importato, tutte le istruzioni nel modulo vengono eseguite una dopo l'altra fino al raggiungimento della fine del file.\n",
    "Il contenuto dello spazio dei nomi del modulo sono tutti i nomi globali ancora definiti alla fine del processo di esecuzione.\n",
    "\n",
    "## Convenzioni di naming\n",
    "\n",
    "È prassi avere nomi dei moduli concisi e in minuscolo:\n",
    "\n",
    "    foo.py e non MyFooModule.py\n",
    "\n",
    "Utilizzare un carattere di sottolineatura iniziale per i moduli da considerare privati:\n",
    "\n",
    "    _foo.py\n",
    "\n",
    "Non utilizzare nomi che corrispondono ai moduli della libreria standard (ovvio ma meglio ribadirlo)\n",
    "\n",
    "    nomeprogetto/math.py\n",
    "\n",
    "Se un file non è nel PATH di sistema non verrà importato:"
   ]
  },
  {
   "cell_type": "code",
   "execution_count": null,
   "metadata": {},
   "outputs": [],
   "source": [
    "import sys "
   ]
  },
  {
   "cell_type": "code",
   "execution_count": null,
   "metadata": {},
   "outputs": [],
   "source": [
    "sys.path"
   ]
  },
  {
   "cell_type": "markdown",
   "metadata": {},
   "source": [
    "Abbiamo comunque un workaround"
   ]
  },
  {
   "cell_type": "code",
   "execution_count": null,
   "metadata": {},
   "outputs": [],
   "source": [
    "sys.path.append('/Users/Davide/Documents')"
   ]
  },
  {
   "cell_type": "markdown",
   "metadata": {},
   "source": [
    "### Il percorso di ricerca dei moduli\n",
    "\n",
    "Quando viene importato un modulo denominato *foo*, l'interprete cerca innanzitutto un modulo standard con quel nome. I nomi di tali moduli sono elencati in *sys.builtin_module_names*\n",
    "\n",
    "Se non lo trova, cerca un file chiamato *foo.py* in un elenco di directory fornito dalla variabile *sys.path*.\n",
    "\n",
    "*sys.path* viene inizializzato da queste posizioni:\n",
    "\n",
    "- La directory contenente lo script (o la directory corrente quando non è specificato alcun file).\n",
    "- PYTHONPATH (un elenco di nomi di directory, con la stessa sintassi della variabile di shell PATH). \n",
    "\n",
    "**Nota** Sui file system che supportano i collegamenti simbolici, la directory contenente lo script di input viene calcolata dopo aver seguito il collegamento simbolico. In altre parole la directory contenente il collegamento simbolico non viene aggiunta al percorso di ricerca del modulo.\n",
    "\n",
    "Dopo l'inizializzazione, i programmi Python possono modificare *sys.path*. La directory contenente lo script in esecuzione viene posizionata all'inizio del percorso di ricerca, prima del percorso della libreria standard. Ciò significa che verranno caricati gli script in quella directory invece dei moduli con lo stesso nome nella directory della libreria. Questo può portare ad errori a meno che non sia previsto l'override."
   ]
  },
  {
   "cell_type": "markdown",
   "metadata": {},
   "source": [
    "**Nota:** i moduli standard integrati sono compilati nell'interprete Python. In genere, sono moduli fondamentali come builtins, sys e time. I moduli integrati dipendono dall'interprete Python, e i loro nomi si trovano con:"
   ]
  },
  {
   "cell_type": "code",
   "execution_count": null,
   "metadata": {},
   "outputs": [],
   "source": [
    "sys.builtin_module_names"
   ]
  },
  {
   "cell_type": "markdown",
   "metadata": {},
   "source": [
    "Notare la differenza:"
   ]
  },
  {
   "cell_type": "code",
   "execution_count": null,
   "metadata": {},
   "outputs": [],
   "source": [
    "import math\n",
    "math"
   ]
  },
  {
   "cell_type": "code",
   "execution_count": null,
   "metadata": {},
   "outputs": [],
   "source": [
    "import time\n",
    "time"
   ]
  },
  {
   "cell_type": "markdown",
   "metadata": {},
   "source": [
    "Il modulo *math* è caricato da un file mentre time è *built-in*"
   ]
  },
  {
   "cell_type": "markdown",
   "metadata": {},
   "source": [
    "## Pacchetti\n",
    "\n",
    "Per librerie di grandi dimensioni di solito è preferibile organizzare i moduli in una gerarchia all'interno di un pacchetto.\n",
    "\n",
    "I pacchetti sono un modo per strutturare lo spazio dei nomi dei moduli Python utilizzando \"dotted module names\". Ad esempio, il nome del modulo A.B indica un sottomodulo chiamato B in un pacchetto chiamato A. \n",
    "\n",
    "L'import funziona allo stesso modo, usando la notazione puntata:\n",
    "\n",
    "     import libgenerale.modulo\n",
    "     from libgenerale.modulo import test\n",
    "     \n"
   ]
  },
  {
   "cell_type": "markdown",
   "metadata": {},
   "source": [
    "### Python librerie da terze parti"
   ]
  },
  {
   "cell_type": "markdown",
   "metadata": {},
   "source": [
    "Registro standard per moduli di terze parti: \n",
    "\n",
    "Python Package Index (PyPI) http://pypi.python.org/"
   ]
  },
  {
   "cell_type": "code",
   "execution_count": null,
   "metadata": {},
   "outputs": [],
   "source": [
    "import geonames.adapters.search"
   ]
  },
  {
   "cell_type": "code",
   "execution_count": null,
   "metadata": {},
   "outputs": [],
   "source": [
    "!pip install geonames_rdf"
   ]
  },
  {
   "cell_type": "markdown",
   "metadata": {},
   "source": [
    "Possiamo installare una specifica versione di una libreria specificandola nel comando di installazione.\n",
    "\n",
    "Per installare la versione 1.5.3 di pandas (l'ultima della versione 1 della libreria) è possibile eseguire:\n",
    "```\n",
    "pip install pandas==1.5.3\n",
    "```\n",
    "Con il comando \n",
    "```\n",
    "pip list\n",
    "```\n",
    "possiamo verificare che la versione effettivamente installata sia la 1.5.3."
   ]
  },
  {
   "cell_type": "markdown",
   "metadata": {},
   "source": [
    "### La libreria itertools"
   ]
  },
  {
   "cell_type": "markdown",
   "metadata": {},
   "source": [
    "La libreria Python _itertools_ contiene una funzione _count_ che agisce come un intervallo infinito:"
   ]
  },
  {
   "cell_type": "code",
   "execution_count": null,
   "metadata": {},
   "outputs": [],
   "source": [
    "import itertools"
   ]
  },
  {
   "cell_type": "code",
   "execution_count": null,
   "metadata": {},
   "outputs": [],
   "source": [
    "from itertools import *"
   ]
  },
  {
   "cell_type": "code",
   "execution_count": null,
   "metadata": {},
   "outputs": [],
   "source": [
    "for i in count(): \n",
    "    if i>=100:\n",
    "        break \n",
    "    print(i, end=', ')"
   ]
  },
  {
   "cell_type": "markdown",
   "metadata": {},
   "source": [
    "Se non avessimo interrotto l'interruzione del ciclo con _break_, il processo continuerebbe fincè non viene interrotto manualmente (usando, ad esempio, _ctrl-C_)"
   ]
  },
  {
   "cell_type": "markdown",
   "metadata": {},
   "source": [
    "Il modulo *itertools* contiene un insieme di funzioni da usare con gli *iterators*"
   ]
  },
  {
   "cell_type": "code",
   "execution_count": null,
   "metadata": {},
   "outputs": [],
   "source": [
    "from itertools import permutations\n",
    "p = permutations(range(3))\n",
    "print(*p) # uso di unpacking"
   ]
  },
  {
   "cell_type": "code",
   "execution_count": null,
   "metadata": {},
   "outputs": [],
   "source": [
    "from itertools import permutations\n",
    "p = permutations(range(3))\n",
    "print(p) # uso di unpacking"
   ]
  },
  {
   "cell_type": "code",
   "execution_count": null,
   "metadata": {},
   "outputs": [],
   "source": [
    "from itertools import combinations\n",
    "c = combinations(range(4), 3)\n",
    "print(*c)"
   ]
  },
  {
   "cell_type": "code",
   "execution_count": null,
   "metadata": {},
   "outputs": [],
   "source": [
    "from itertools import product\n",
    "p = product('ab', range(3))\n",
    "print(*p)"
   ]
  },
  {
   "cell_type": "code",
   "execution_count": null,
   "metadata": {},
   "outputs": [],
   "source": [
    "from itertools import product\n",
    "p = product(range(3), range(3))\n",
    "print(p)"
   ]
  },
  {
   "cell_type": "code",
   "execution_count": null,
   "metadata": {},
   "outputs": [],
   "source": [
    "type(p)"
   ]
  },
  {
   "cell_type": "markdown",
   "metadata": {},
   "source": [
    "**Concatenare due *iterable***\n",
    "\n",
    "Itertools contiene anche un metodo per concatenare due iteratori (non è possibile usare l'operatore + ma serve un vero e proprio metodo) "
   ]
  },
  {
   "cell_type": "code",
   "execution_count": null,
   "metadata": {},
   "outputs": [],
   "source": [
    "from itertools import chain\n",
    "x = iter([1,2,3])      \n",
    "y = iter([3,4,5])      \n",
    "result = chain(x, y) "
   ]
  },
  {
   "cell_type": "code",
   "execution_count": null,
   "metadata": {},
   "outputs": [],
   "source": [
    "for item in result:\n",
    "    print(item)"
   ]
  },
  {
   "cell_type": "markdown",
   "metadata": {},
   "source": [
    "## Ambienti Virtuali\n",
    "\n",
    "Per creare un virtual environment occorre creare una directory di progetto ed eseguire il modulo venv come uno script:\n",
    "```\n",
    "python -m venv tutorial-env\n",
    "```\n",
    "Una volta che il virtual environment è stato creato può essere attivato.\n",
    "\n",
    "Su Windows, eseguire:\n",
    "```\n",
    "tutorial-env\\Scripts\\activate\n",
    "```\n",
    "Su Unix o MacOS, eseguire:\n",
    "```\n",
    "source tutorial-env/bin/activate\n",
    "```\n",
    "L'attivazione dell'ambiente virtuale cambierà il prompt della shell mostrando quale ambiente virtuale si sta utilizzando e modificherà l'ambiente in modo che l'esecuzione di Python fornisca quella particolare versione di Python.\n",
    "\n",
    "Per _deactivare_ un virtual environment, eseguire:\n",
    "```\n",
    "deactivate\n",
    "```\n",
    "Per visualizzare l’ambiente virtuale attivo digita:\n",
    "```\n",
    "which python\n",
    "```\n",
    "Per visualizzare tutti i pacchetti installati ed esportare un file elenco, naviga nella cartella del virtual env e digita:\n",
    "```\n",
    "pip3 freeze > requirements.txt\n",
    "```\n",
    "Per copiare un ambiente virtuale venv sposta il file requirements.txt nella nuova cartella e digita:\n",
    "```\n",
    "pip3 install -r requirements.txt.\n",
    "```\n",
    "Per rimuovere completamente un virtual environment digita:\n",
    "```\n",
    "rm -r venv/\n",
    "```\n",
    "NOTA: si può installare una versione specifica di un pacchetto indicando il nome della libreria seguito da == e il numero di versione:\n",
    "```\n",
    "(tutorial-env) $ python -m pip install requests==2.6.0\n",
    "```\n",
    "Il comando python -m pip show mostra le informazioni su uno specifico pacchetto:\n",
    "```\n",
    "(tutorial-env) $ python -m pip show requests\n",
    "```\n",
    "Il comando python -m pip list mostrerà tutti i pacchetti installati nel virtual environment:\n",
    "```\n",
    "(tutorial-env) $ python -m pip list\n",
    "```"
   ]
  },
  {
   "cell_type": "markdown",
   "metadata": {},
   "source": [
    "## Ambienti Virtuali con Conda\n",
    "\n",
    "Un altro sistema di gestione di pacchetti e di ambienti virtuali molto utilizzato è Conda.\n",
    "\n",
    "Per creare un nuovo ambiente virtuale tramite Conda, su Anaconda/Miniconda Prompt digitate:\n",
    "```\n",
    "conda create --name myenv\n",
    "```\n",
    "Si può anche indicare la versione di Python da usare nell'ambiente:\n",
    "```\n",
    "conda create --name myenv python=3.11\n",
    "```\n",
    "per attivare un ambiente virtuale con Conda si usa:\n",
    "```\n",
    "conda activate myenv # Windows\n",
    "```\n",
    "```\n",
    "source activate myenv # Linux\n",
    "```\n",
    "\n",
    "Vedere tutti i pacchetti installati in un ambiente: \n",
    "    \n",
    "    conda list\n",
    "\n",
    "Salvare l'ambiente in un file:\n",
    "\n",
    "    conda env export --file environment.yml\n",
    "\n",
    "Ricreare l'ambiente:\n",
    "\n",
    "    conda env create --file environment.yml -n shared-copy\n",
    "    \n",
    "Ottenere una lista di tutti gli ambienti attivi \n",
    "    \n",
    "    conda env list environment is shown with *\n",
    "\n",
    "Fare una copia esatta di un ambiente: \n",
    "    \n",
    "    conda create --clone py35 --name py35-2"
   ]
  }
 ],
 "metadata": {
  "anaconda-cloud": {},
  "kernelspec": {
   "display_name": "Python 3 (ipykernel)",
   "language": "python",
   "name": "python3"
  },
  "language_info": {
   "codemirror_mode": {
    "name": "ipython",
    "version": 3
   },
   "file_extension": ".py",
   "mimetype": "text/x-python",
   "name": "python",
   "nbconvert_exporter": "python",
   "pygments_lexer": "ipython3",
   "version": "3.11.5"
  },
  "nbpresent": {
   "slides": {
    "05fbc29e-040c-42f1-92e8-6ea9c9e5d1bb": {
     "id": "05fbc29e-040c-42f1-92e8-6ea9c9e5d1bb",
     "prev": "46f39f01-04b1-4b98-a658-8cce9fa47b37",
     "regions": {
      "6d6fbd67-eeba-4bf1-b599-3a115b204ad1": {
       "attrs": {
        "height": 0.8,
        "width": 0.8,
        "x": 0.1,
        "y": 0.1
       },
       "content": {
        "cell": "89a0e611-c617-4a23-a370-3e1f945610b3",
        "part": "whole"
       },
       "id": "6d6fbd67-eeba-4bf1-b599-3a115b204ad1"
      }
     }
    },
    "0dcdabd2-50ce-4866-b3ca-ac4821218a4f": {
     "id": "0dcdabd2-50ce-4866-b3ca-ac4821218a4f",
     "prev": "6bb98a6f-f808-471e-8af6-3ec805c17a26",
     "regions": {
      "b7929dd9-7f63-40e3-ba93-927eb729f4bf": {
       "attrs": {
        "height": 0.8,
        "width": 0.8,
        "x": 0.1,
        "y": 0.1
       },
       "content": {
        "cell": "9bff614c-00dc-49ad-8386-efa8002125bb",
        "part": "whole"
       },
       "id": "b7929dd9-7f63-40e3-ba93-927eb729f4bf"
      }
     }
    },
    "1037f9f2-15ff-4122-aa19-1725d378406e": {
     "id": "1037f9f2-15ff-4122-aa19-1725d378406e",
     "prev": "e0ace681-763e-40b1-8be3-afc19c396e2f",
     "regions": {
      "bd703a86-4e4a-45af-8208-c0248ff90097": {
       "attrs": {
        "height": 0.8,
        "width": 0.8,
        "x": 0.1,
        "y": 0.1
       },
       "content": {
        "cell": "e4189b85-b810-439f-b0e2-9d8c6c77b2bf",
        "part": "whole"
       },
       "id": "bd703a86-4e4a-45af-8208-c0248ff90097"
      }
     }
    },
    "11d81164-7047-4fac-b9fe-c5fa1cbb24ba": {
     "id": "11d81164-7047-4fac-b9fe-c5fa1cbb24ba",
     "prev": "9574098c-70cc-456c-b401-00f99ec90f31",
     "regions": {
      "5ae5b42b-cdb0-45aa-b214-28988fe1b9f5": {
       "attrs": {
        "height": 0.8,
        "width": 0.8,
        "x": 0.1,
        "y": 0.1
       },
       "content": {
        "cell": "c93eb5ba-f9a0-4d71-95d8-3601369d481d",
        "part": "whole"
       },
       "id": "5ae5b42b-cdb0-45aa-b214-28988fe1b9f5"
      }
     }
    },
    "1272a6a9-7016-4076-9165-0ddd3fa346ff": {
     "id": "1272a6a9-7016-4076-9165-0ddd3fa346ff",
     "prev": "4dcbb552-42d3-4a6d-b9c0-fea57cf015b8",
     "regions": {
      "8d1d684b-3b5a-49f1-8f58-17fbf8059629": {
       "attrs": {
        "height": 0.8,
        "width": 0.8,
        "x": 0.1,
        "y": 0.1
       },
       "content": {
        "cell": "e3ee67f3-496a-4eba-b65b-3297a3790219",
        "part": "whole"
       },
       "id": "8d1d684b-3b5a-49f1-8f58-17fbf8059629"
      }
     }
    },
    "1fb99cfa-1a1b-4d60-87c7-03abf50cd90e": {
     "id": "1fb99cfa-1a1b-4d60-87c7-03abf50cd90e",
     "prev": "66de0ce3-ae0a-4090-b92f-576745c23803",
     "regions": {
      "1c44b0f2-98d2-45cd-a183-8406b5430333": {
       "attrs": {
        "height": 0.8,
        "width": 0.8,
        "x": 0.1,
        "y": 0.1
       },
       "content": {
        "cell": "7938d9b5-4672-4e73-9f51-091cb83356b1",
        "part": "whole"
       },
       "id": "1c44b0f2-98d2-45cd-a183-8406b5430333"
      }
     }
    },
    "290fa467-e94e-482c-bccd-86cef6aaf14b": {
     "id": "290fa467-e94e-482c-bccd-86cef6aaf14b",
     "prev": "3141931b-8d90-4f3f-8683-310ccc19bd1c",
     "regions": {
      "4b31b033-7f83-4f1b-a920-330f05aadc89": {
       "attrs": {
        "height": 0.8,
        "width": 0.8,
        "x": 0.1,
        "y": 0.1
       },
       "content": {
        "cell": "dab09041-31e6-4923-8b37-88ef9a905560",
        "part": "whole"
       },
       "id": "4b31b033-7f83-4f1b-a920-330f05aadc89"
      }
     }
    },
    "2c787429-d522-4aca-a3ca-4f58932aa36e": {
     "id": "2c787429-d522-4aca-a3ca-4f58932aa36e",
     "prev": "88ae630e-a95c-4e6e-a4a8-c9c93cc92d1a",
     "regions": {
      "72320b4b-4878-4b8f-85cc-6a2205303a2e": {
       "attrs": {
        "height": 0.8,
        "width": 0.8,
        "x": 0.1,
        "y": 0.1
       },
       "content": {
        "cell": "9401baae-204b-4042-b453-119ffa783193",
        "part": "whole"
       },
       "id": "72320b4b-4878-4b8f-85cc-6a2205303a2e"
      }
     }
    },
    "3141931b-8d90-4f3f-8683-310ccc19bd1c": {
     "id": "3141931b-8d90-4f3f-8683-310ccc19bd1c",
     "prev": "712c413c-c0e8-4c06-80c5-46e5a855492a",
     "regions": {
      "fa0a37ec-71c9-450b-8870-866a40709752": {
       "attrs": {
        "height": 0.8,
        "width": 0.8,
        "x": 0.1,
        "y": 0.1
       },
       "content": {
        "cell": "d692da7c-c656-4e4f-b420-12e277eef8c1",
        "part": "whole"
       },
       "id": "fa0a37ec-71c9-450b-8870-866a40709752"
      }
     }
    },
    "394789f1-4bc6-4b2e-a963-3db36e36996b": {
     "id": "394789f1-4bc6-4b2e-a963-3db36e36996b",
     "prev": "47a9957e-d16c-427e-bba4-e85393d0e339",
     "regions": {
      "6d1229c7-ec1a-4d58-a994-6ad35a038fbc": {
       "attrs": {
        "height": 0.8,
        "width": 0.8,
        "x": 0.1,
        "y": 0.1
       },
       "content": {
        "cell": "52e54a38-1b1c-4901-ad2b-ba708cbf9226",
        "part": "whole"
       },
       "id": "6d1229c7-ec1a-4d58-a994-6ad35a038fbc"
      }
     }
    },
    "3ccbb819-0cbe-42d9-896b-5c3ebe904249": {
     "id": "3ccbb819-0cbe-42d9-896b-5c3ebe904249",
     "prev": "a5552fe0-82c4-460a-a0e8-5bf24a63bd2d",
     "regions": {
      "2c0c3d3f-d4e3-4d6a-a11c-27d54bdb607e": {
       "attrs": {
        "height": 0.8,
        "width": 0.8,
        "x": 0.1,
        "y": 0.1
       },
       "content": {
        "cell": "be99b59a-bd50-4e0d-9254-98011267d514",
        "part": "whole"
       },
       "id": "2c0c3d3f-d4e3-4d6a-a11c-27d54bdb607e"
      }
     }
    },
    "46f39f01-04b1-4b98-a658-8cce9fa47b37": {
     "id": "46f39f01-04b1-4b98-a658-8cce9fa47b37",
     "prev": "74f4069e-f957-4200-8bee-2247961a0b8f",
     "regions": {
      "39943f6e-3167-43d8-a279-eac0c68a0827": {
       "attrs": {
        "height": 0.8,
        "width": 0.8,
        "x": 0.1,
        "y": 0.1
       },
       "content": {
        "cell": "036b982b-ef8c-44c9-b1ae-70098dba040b",
        "part": "whole"
       },
       "id": "39943f6e-3167-43d8-a279-eac0c68a0827"
      }
     }
    },
    "47a9957e-d16c-427e-bba4-e85393d0e339": {
     "id": "47a9957e-d16c-427e-bba4-e85393d0e339",
     "prev": "5fe25894-5d6a-428e-8beb-7f3e726d8d13",
     "regions": {
      "26ad5ecb-5c0d-4073-86d2-295cf725a8e1": {
       "attrs": {
        "height": 0.8,
        "width": 0.8,
        "x": 0.1,
        "y": 0.1
       },
       "content": {
        "cell": "c0c7fc87-580e-4e47-b74a-5b24aecc88b4",
        "part": "whole"
       },
       "id": "26ad5ecb-5c0d-4073-86d2-295cf725a8e1"
      }
     }
    },
    "4d9a51a9-98fb-4647-aa84-4ad81cdd68ef": {
     "id": "4d9a51a9-98fb-4647-aa84-4ad81cdd68ef",
     "prev": "b21635ae-0312-4f48-b4d0-6ec294585262",
     "regions": {
      "21385a7f-951e-4074-909f-d059fd15c254": {
       "attrs": {
        "height": 0.8,
        "width": 0.8,
        "x": 0.1,
        "y": 0.1
       },
       "content": {
        "cell": "f4a78003-14ae-464c-ac56-3637c48a4cb4",
        "part": "whole"
       },
       "id": "21385a7f-951e-4074-909f-d059fd15c254"
      }
     }
    },
    "4dcbb552-42d3-4a6d-b9c0-fea57cf015b8": {
     "id": "4dcbb552-42d3-4a6d-b9c0-fea57cf015b8",
     "prev": "88f9dc86-c2aa-48a4-bcb6-1d64124e1837",
     "regions": {
      "325af035-3975-44f0-9372-1d03c6680bd3": {
       "attrs": {
        "height": 0.8,
        "width": 0.8,
        "x": 0.1,
        "y": 0.1
       },
       "content": {
        "cell": "4216f01e-82fc-4b81-abc8-c695aa738dc3",
        "part": "whole"
       },
       "id": "325af035-3975-44f0-9372-1d03c6680bd3"
      }
     }
    },
    "4e9d80e1-5291-49ef-b7e7-eb7157e8f4a3": {
     "id": "4e9d80e1-5291-49ef-b7e7-eb7157e8f4a3",
     "prev": "d430f02a-3d46-409a-bf69-c71d44bcdc14",
     "regions": {
      "7ab17f73-9a8e-4572-b687-bda8a7f2da2b": {
       "attrs": {
        "height": 0.8,
        "width": 0.8,
        "x": 0.1,
        "y": 0.1
       },
       "content": {
        "cell": "6ea6db85-489e-4484-8984-1fd4e517fdb3",
        "part": "whole"
       },
       "id": "7ab17f73-9a8e-4572-b687-bda8a7f2da2b"
      }
     }
    },
    "56de28ea-3bfa-4a38-b8a7-1689a693f6a8": {
     "id": "56de28ea-3bfa-4a38-b8a7-1689a693f6a8",
     "prev": "75873ada-5439-40a3-b388-ca99d8908e09",
     "regions": {
      "a408956a-4796-4ad9-b70e-599ca00606ec": {
       "attrs": {
        "height": 0.8,
        "width": 0.8,
        "x": 0.1,
        "y": 0.1
       },
       "content": {
        "cell": "aa637427-9f4d-42fa-88db-3c508bcf4509",
        "part": "whole"
       },
       "id": "a408956a-4796-4ad9-b70e-599ca00606ec"
      }
     }
    },
    "574d59cd-7fcc-44cf-9488-f3496608cb43": {
     "id": "574d59cd-7fcc-44cf-9488-f3496608cb43",
     "prev": "cbbb07b3-498b-43f5-b3f7-446bea97064a",
     "regions": {
      "b2b30333-e9eb-4dab-aed5-3e21a92247d0": {
       "attrs": {
        "height": 0.8,
        "width": 0.8,
        "x": 0.1,
        "y": 0.1
       },
       "content": {
        "cell": "ee736210-6c71-4e23-8576-ac36a6952778",
        "part": "whole"
       },
       "id": "b2b30333-e9eb-4dab-aed5-3e21a92247d0"
      }
     }
    },
    "5fe25894-5d6a-428e-8beb-7f3e726d8d13": {
     "id": "5fe25894-5d6a-428e-8beb-7f3e726d8d13",
     "prev": "bf040e93-4a1a-4096-9bc0-1a3b67d0c8f4",
     "regions": {
      "d700a620-c1df-40a2-baba-049a364c5e38": {
       "attrs": {
        "height": 0.8,
        "width": 0.8,
        "x": 0.1,
        "y": 0.1
       },
       "content": {
        "cell": "3925e51b-166f-44b2-8098-52e66011ed72",
        "part": "whole"
       },
       "id": "d700a620-c1df-40a2-baba-049a364c5e38"
      }
     }
    },
    "6623d00c-fb73-4f44-9480-b142931fb6b8": {
     "id": "6623d00c-fb73-4f44-9480-b142931fb6b8",
     "prev": "faff6b27-1b0e-47cd-874d-3f0f6ff002a2",
     "regions": {
      "4d486dae-867d-422f-865f-d47667564c66": {
       "attrs": {
        "height": 0.8,
        "width": 0.8,
        "x": 0.1,
        "y": 0.1
       },
       "content": {
        "cell": "2cbd2356-0f6c-418e-90b6-61e3aa2ae0ce",
        "part": "whole"
       },
       "id": "4d486dae-867d-422f-865f-d47667564c66"
      }
     }
    },
    "66de0ce3-ae0a-4090-b92f-576745c23803": {
     "id": "66de0ce3-ae0a-4090-b92f-576745c23803",
     "prev": "e934b62f-92a3-44e5-adf5-cbec0ac38c76",
     "regions": {
      "11d2f6b7-c91f-455b-8321-e64f763b460f": {
       "attrs": {
        "height": 0.8,
        "width": 0.8,
        "x": 0.1,
        "y": 0.1
       },
       "content": {
        "cell": "a8cb08a0-c4d4-4524-a0b1-6a1a57caa90b",
        "part": "whole"
       },
       "id": "11d2f6b7-c91f-455b-8321-e64f763b460f"
      }
     }
    },
    "6bb98a6f-f808-471e-8af6-3ec805c17a26": {
     "id": "6bb98a6f-f808-471e-8af6-3ec805c17a26",
     "prev": "8cfcacba-965d-4823-b4dc-954fbe7621b6",
     "regions": {
      "76a84111-30cc-4777-9876-303bc62a04d1": {
       "attrs": {
        "height": 0.8,
        "width": 0.8,
        "x": 0.1,
        "y": 0.1
       },
       "content": {
        "cell": "3f934a21-f8b4-424f-b3df-fada580721d3",
        "part": "whole"
       },
       "id": "76a84111-30cc-4777-9876-303bc62a04d1"
      }
     }
    },
    "6d969d0d-f009-4922-a4d2-8bedec46ccb4": {
     "id": "6d969d0d-f009-4922-a4d2-8bedec46ccb4",
     "prev": "81b8ad8e-451e-463d-bba3-4a3d0bd7dd55",
     "regions": {
      "7ccb1605-2f42-43fa-a569-521365cf404e": {
       "attrs": {
        "height": 0.8,
        "width": 0.8,
        "x": 0.1,
        "y": 0.1
       },
       "content": {
        "cell": "c0620dc8-7672-43e5-8ff0-594f058c856f",
        "part": "whole"
       },
       "id": "7ccb1605-2f42-43fa-a569-521365cf404e"
      }
     }
    },
    "6df0c082-26af-41e3-98a7-16a5077cbe0e": {
     "id": "6df0c082-26af-41e3-98a7-16a5077cbe0e",
     "prev": "f8b67542-7616-47bf-a785-5b8fcb7479db",
     "regions": {
      "021a5176-a306-440c-99c5-d8a625bf8b46": {
       "attrs": {
        "height": 0.8,
        "width": 0.8,
        "x": 0.1,
        "y": 0.1
       },
       "content": {
        "cell": "e831dc00-fa04-404c-8a63-2c0b8aab7f7e",
        "part": "whole"
       },
       "id": "021a5176-a306-440c-99c5-d8a625bf8b46"
      }
     }
    },
    "6ee68258-c322-4be1-a39f-4fb70eb0b1dc": {
     "id": "6ee68258-c322-4be1-a39f-4fb70eb0b1dc",
     "prev": "7722ac92-68fb-40c1-a89f-174262ae2c0d",
     "regions": {
      "6e1fa148-cdf1-4a89-89ed-cb28a5c72686": {
       "attrs": {
        "height": 0.8,
        "width": 0.8,
        "x": 0.1,
        "y": 0.1
       },
       "content": {
        "cell": "4389ceaa-cb4b-41f2-b66c-7b355c021ce0",
        "part": "whole"
       },
       "id": "6e1fa148-cdf1-4a89-89ed-cb28a5c72686"
      }
     }
    },
    "6f7b624a-d5e0-4a37-bac2-e10ff8fd7f12": {
     "id": "6f7b624a-d5e0-4a37-bac2-e10ff8fd7f12",
     "prev": "78fdd37b-171e-422f-9d9a-4c7ebb7cc69f",
     "regions": {
      "220548e0-2ce9-42c3-833e-469ce04af92e": {
       "attrs": {
        "height": 0.8,
        "width": 0.8,
        "x": 0.1,
        "y": 0.1
       },
       "content": {
        "cell": "aa374bdf-4d99-4dfc-a09c-da12d33cc252",
        "part": "whole"
       },
       "id": "220548e0-2ce9-42c3-833e-469ce04af92e"
      }
     }
    },
    "7042bea2-63d8-4bf4-974a-88d1de595300": {
     "id": "7042bea2-63d8-4bf4-974a-88d1de595300",
     "prev": "c8a21eaa-e5d2-4ee9-82b0-7e08b4ac89c0",
     "regions": {
      "9f3c2157-48ea-4565-98d4-23f97937fad9": {
       "attrs": {
        "height": 0.8,
        "width": 0.8,
        "x": 0.1,
        "y": 0.1
       },
       "content": {
        "cell": "818664b9-c94f-4141-a90e-e2b9c0fe9eeb",
        "part": "whole"
       },
       "id": "9f3c2157-48ea-4565-98d4-23f97937fad9"
      }
     }
    },
    "712c413c-c0e8-4c06-80c5-46e5a855492a": {
     "id": "712c413c-c0e8-4c06-80c5-46e5a855492a",
     "prev": "6ee68258-c322-4be1-a39f-4fb70eb0b1dc",
     "regions": {
      "b25276df-5296-4fd2-9349-bb13e1c0989e": {
       "attrs": {
        "height": 0.8,
        "width": 0.8,
        "x": 0.1,
        "y": 0.1
       },
       "content": {
        "cell": "2fe34863-35de-43e5-8eb9-6c2299205621",
        "part": "whole"
       },
       "id": "b25276df-5296-4fd2-9349-bb13e1c0989e"
      }
     }
    },
    "74f4069e-f957-4200-8bee-2247961a0b8f": {
     "id": "74f4069e-f957-4200-8bee-2247961a0b8f",
     "prev": "d56a3ba3-9b3d-426a-803d-c2975df2988e",
     "regions": {
      "6a822e00-a0ba-46a0-baa9-588e9561e892": {
       "attrs": {
        "height": 0.8,
        "width": 0.8,
        "x": 0.1,
        "y": 0.1
       },
       "content": {
        "cell": "11f26db5-0b4e-428a-87b5-a418c2f10a12",
        "part": "whole"
       },
       "id": "6a822e00-a0ba-46a0-baa9-588e9561e892"
      }
     }
    },
    "753f47a8-d105-4749-9ca3-7ac8c6b8ce06": {
     "id": "753f47a8-d105-4749-9ca3-7ac8c6b8ce06",
     "prev": "0dcdabd2-50ce-4866-b3ca-ac4821218a4f",
     "regions": {
      "b96feefa-7e55-4c0e-9de1-0414150b79c2": {
       "attrs": {
        "height": 0.8,
        "width": 0.8,
        "x": 0.1,
        "y": 0.1
       },
       "content": {
        "cell": "2d8f2326-ac75-4702-a3ae-71600b527a24",
        "part": "whole"
       },
       "id": "b96feefa-7e55-4c0e-9de1-0414150b79c2"
      }
     }
    },
    "75873ada-5439-40a3-b388-ca99d8908e09": {
     "id": "75873ada-5439-40a3-b388-ca99d8908e09",
     "prev": "6df0c082-26af-41e3-98a7-16a5077cbe0e",
     "regions": {
      "cdae9f06-483b-42e8-b7a8-da21b60f5127": {
       "attrs": {
        "height": 0.8,
        "width": 0.8,
        "x": 0.1,
        "y": 0.1
       },
       "content": {
        "cell": "018f712c-8546-443c-9b19-bb38c887d1df",
        "part": "whole"
       },
       "id": "cdae9f06-483b-42e8-b7a8-da21b60f5127"
      }
     }
    },
    "76a3cfdf-3fb8-4164-9c30-8e51e3849cf0": {
     "id": "76a3cfdf-3fb8-4164-9c30-8e51e3849cf0",
     "prev": "3ccbb819-0cbe-42d9-896b-5c3ebe904249",
     "regions": {
      "00683752-4e37-4c92-a43e-93ffe8395d1e": {
       "attrs": {
        "height": 0.8,
        "width": 0.8,
        "x": 0.1,
        "y": 0.1
       },
       "content": {
        "cell": "03cc3cc1-0257-4219-9764-eef4bf0b2050",
        "part": "whole"
       },
       "id": "00683752-4e37-4c92-a43e-93ffe8395d1e"
      }
     }
    },
    "7722ac92-68fb-40c1-a89f-174262ae2c0d": {
     "id": "7722ac92-68fb-40c1-a89f-174262ae2c0d",
     "prev": "2c787429-d522-4aca-a3ca-4f58932aa36e",
     "regions": {
      "cecabb82-075f-4225-afaa-d7baec3b1907": {
       "attrs": {
        "height": 0.8,
        "width": 0.8,
        "x": 0.1,
        "y": 0.1
       },
       "content": {
        "cell": "b54d31d8-d2ef-42db-b902-fa856ecf8225",
        "part": "whole"
       },
       "id": "cecabb82-075f-4225-afaa-d7baec3b1907"
      }
     }
    },
    "78fdd37b-171e-422f-9d9a-4c7ebb7cc69f": {
     "id": "78fdd37b-171e-422f-9d9a-4c7ebb7cc69f",
     "prev": "e904d68a-8788-4014-8de4-b632db85924d",
     "regions": {
      "70c4e8e9-34f6-4693-a97d-9706a4963381": {
       "attrs": {
        "height": 0.8,
        "width": 0.8,
        "x": 0.1,
        "y": 0.1
       },
       "content": {
        "cell": "89fa82df-6ec8-4529-8979-064fe245ace4",
        "part": "whole"
       },
       "id": "70c4e8e9-34f6-4693-a97d-9706a4963381"
      }
     }
    },
    "80746e4a-55be-4ffb-bb23-0ebac11c10ec": {
     "id": "80746e4a-55be-4ffb-bb23-0ebac11c10ec",
     "prev": "56de28ea-3bfa-4a38-b8a7-1689a693f6a8",
     "regions": {
      "83cefce6-a784-4706-ae3d-0583fd492432": {
       "attrs": {
        "height": 0.8,
        "width": 0.8,
        "x": 0.1,
        "y": 0.1
       },
       "content": {
        "cell": "776bd522-a8f3-4904-98fb-410816fb9684",
        "part": "whole"
       },
       "id": "83cefce6-a784-4706-ae3d-0583fd492432"
      }
     }
    },
    "81b8ad8e-451e-463d-bba3-4a3d0bd7dd55": {
     "id": "81b8ad8e-451e-463d-bba3-4a3d0bd7dd55",
     "prev": "6623d00c-fb73-4f44-9480-b142931fb6b8",
     "regions": {
      "597a9c0f-ca24-438e-b252-a18aad01514d": {
       "attrs": {
        "height": 0.8,
        "width": 0.8,
        "x": 0.1,
        "y": 0.1
       },
       "content": {
        "cell": "02cdd1c4-14fb-4603-a6d6-0dd08608d688",
        "part": "whole"
       },
       "id": "597a9c0f-ca24-438e-b252-a18aad01514d"
      }
     }
    },
    "88ae630e-a95c-4e6e-a4a8-c9c93cc92d1a": {
     "id": "88ae630e-a95c-4e6e-a4a8-c9c93cc92d1a",
     "prev": "94d33e36-4091-45f7-8251-76118d3e0a97",
     "regions": {
      "ca744c9f-537d-4bcd-b1b6-80f5c8c3bac5": {
       "attrs": {
        "height": 0.8,
        "width": 0.8,
        "x": 0.1,
        "y": 0.1
       },
       "content": {
        "cell": "9575f727-78c7-4dfa-8be0-6db5e5a2d49b",
        "part": "whole"
       },
       "id": "ca744c9f-537d-4bcd-b1b6-80f5c8c3bac5"
      }
     }
    },
    "88f9dc86-c2aa-48a4-bcb6-1d64124e1837": {
     "id": "88f9dc86-c2aa-48a4-bcb6-1d64124e1837",
     "prev": "cb6abaff-0c89-4618-81c9-dfb6def096b2",
     "regions": {
      "f2389494-ad87-43b2-ab41-f87bdaec166f": {
       "attrs": {
        "height": 0.8,
        "width": 0.8,
        "x": 0.1,
        "y": 0.1
       },
       "content": {
        "cell": "f0b73716-4eb8-4b99-a219-0313f3cfd92d",
        "part": "whole"
       },
       "id": "f2389494-ad87-43b2-ab41-f87bdaec166f"
      }
     }
    },
    "8cfcacba-965d-4823-b4dc-954fbe7621b6": {
     "id": "8cfcacba-965d-4823-b4dc-954fbe7621b6",
     "prev": "290fa467-e94e-482c-bccd-86cef6aaf14b",
     "regions": {
      "803e415b-65f0-444b-8b26-f0f59aafbab1": {
       "attrs": {
        "height": 0.8,
        "width": 0.8,
        "x": 0.1,
        "y": 0.1
       },
       "content": {
        "cell": "02987002-3810-4c73-ab51-91690f6cc29e",
        "part": "whole"
       },
       "id": "803e415b-65f0-444b-8b26-f0f59aafbab1"
      }
     }
    },
    "8e914bf1-4b57-4863-a427-3189aa871222": {
     "id": "8e914bf1-4b57-4863-a427-3189aa871222",
     "prev": "7042bea2-63d8-4bf4-974a-88d1de595300",
     "regions": {
      "0f70e311-f196-4b80-8d97-675030754798": {
       "attrs": {
        "height": 0.8,
        "width": 0.8,
        "x": 0.1,
        "y": 0.1
       },
       "content": {
        "cell": "53307708-9336-4d73-a65f-048e5ddaf3e0",
        "part": "whole"
       },
       "id": "0f70e311-f196-4b80-8d97-675030754798"
      }
     }
    },
    "94d33e36-4091-45f7-8251-76118d3e0a97": {
     "id": "94d33e36-4091-45f7-8251-76118d3e0a97",
     "prev": "edcf0f8a-1c46-4cb6-81ae-48b8b2919bf4",
     "regions": {
      "bd5d59de-ec27-4efc-a8e7-f5b75b2cfde5": {
       "attrs": {
        "height": 0.8,
        "width": 0.8,
        "x": 0.1,
        "y": 0.1
       },
       "content": {
        "cell": "f32a6a6b-0951-4bff-b04b-f75091aff0e2",
        "part": "whole"
       },
       "id": "bd5d59de-ec27-4efc-a8e7-f5b75b2cfde5"
      }
     }
    },
    "953cc654-d1c2-4293-9fd5-b869dde4e1cb": {
     "id": "953cc654-d1c2-4293-9fd5-b869dde4e1cb",
     "prev": "ac7de46a-f366-497d-8d39-d6956a04b6d4",
     "regions": {
      "e08935b7-e17c-464e-9504-4ac52d777be2": {
       "attrs": {
        "height": 0.8,
        "width": 0.8,
        "x": 0.1,
        "y": 0.1
       },
       "content": {
        "cell": "496aef00-1219-4f68-9c8b-4ed863e32d64",
        "part": "whole"
       },
       "id": "e08935b7-e17c-464e-9504-4ac52d777be2"
      }
     }
    },
    "9574098c-70cc-456c-b401-00f99ec90f31": {
     "id": "9574098c-70cc-456c-b401-00f99ec90f31",
     "prev": "574d59cd-7fcc-44cf-9488-f3496608cb43",
     "regions": {
      "8791cdbb-d26f-4cf3-b18f-e51f3f6df39a": {
       "attrs": {
        "height": 0.8,
        "width": 0.8,
        "x": 0.1,
        "y": 0.1
       },
       "content": {
        "cell": "99a29f2a-7fd6-42a4-ad79-1b9ef5288b84",
        "part": "whole"
       },
       "id": "8791cdbb-d26f-4cf3-b18f-e51f3f6df39a"
      }
     }
    },
    "95f59796-7dbb-4f09-950c-dc1fd9861e63": {
     "id": "95f59796-7dbb-4f09-950c-dc1fd9861e63",
     "prev": null,
     "regions": {
      "9b435fb6-fdee-42ce-a064-1bd0432b9397": {
       "attrs": {
        "height": 0.8,
        "width": 0.8,
        "x": 0.1,
        "y": 0.1
       },
       "content": {
        "cell": "eb8dc1d0-5bd5-4d54-9909-c72c599d91db",
        "part": "whole"
       },
       "id": "9b435fb6-fdee-42ce-a064-1bd0432b9397"
      }
     }
    },
    "a3b3f126-2d94-43b8-a211-d65785017305": {
     "id": "a3b3f126-2d94-43b8-a211-d65785017305",
     "prev": "05fbc29e-040c-42f1-92e8-6ea9c9e5d1bb",
     "regions": {
      "a3c45c04-cda5-4d38-ac3a-6ebf750e267c": {
       "attrs": {
        "height": 0.8,
        "width": 0.8,
        "x": 0.1,
        "y": 0.1
       },
       "content": {
        "cell": "2e875098-e45b-4fb8-9f18-0813e8965d7f",
        "part": "whole"
       },
       "id": "a3c45c04-cda5-4d38-ac3a-6ebf750e267c"
      }
     }
    },
    "a5552fe0-82c4-460a-a0e8-5bf24a63bd2d": {
     "id": "a5552fe0-82c4-460a-a0e8-5bf24a63bd2d",
     "prev": "a3b3f126-2d94-43b8-a211-d65785017305",
     "regions": {
      "9fba4441-8f7e-43d2-9cac-b9f0f2b1f045": {
       "attrs": {
        "height": 0.8,
        "width": 0.8,
        "x": 0.1,
        "y": 0.1
       },
       "content": {
        "cell": "81a32d0a-e959-4712-99da-a547100c0b14",
        "part": "whole"
       },
       "id": "9fba4441-8f7e-43d2-9cac-b9f0f2b1f045"
      }
     }
    },
    "ac7de46a-f366-497d-8d39-d6956a04b6d4": {
     "id": "ac7de46a-f366-497d-8d39-d6956a04b6d4",
     "prev": "1037f9f2-15ff-4122-aa19-1725d378406e",
     "regions": {
      "6b483752-88fb-424e-a556-9f6a673fbf70": {
       "attrs": {
        "height": 0.8,
        "width": 0.8,
        "x": 0.1,
        "y": 0.1
       },
       "content": {
        "cell": "8e31fb00-b85f-4ac1-9bcd-125ca784333f",
        "part": "whole"
       },
       "id": "6b483752-88fb-424e-a556-9f6a673fbf70"
      }
     }
    },
    "b21635ae-0312-4f48-b4d0-6ec294585262": {
     "id": "b21635ae-0312-4f48-b4d0-6ec294585262",
     "prev": "1fb99cfa-1a1b-4d60-87c7-03abf50cd90e",
     "regions": {
      "35d6f9e6-38ae-42b5-b5a3-9939a5be6a98": {
       "attrs": {
        "height": 0.8,
        "width": 0.8,
        "x": 0.1,
        "y": 0.1
       },
       "content": {
        "cell": "a8db22c0-77f8-4456-8f4f-33378bdced7e",
        "part": "whole"
       },
       "id": "35d6f9e6-38ae-42b5-b5a3-9939a5be6a98"
      }
     }
    },
    "bf040e93-4a1a-4096-9bc0-1a3b67d0c8f4": {
     "id": "bf040e93-4a1a-4096-9bc0-1a3b67d0c8f4",
     "prev": "8e914bf1-4b57-4863-a427-3189aa871222",
     "regions": {
      "dad1f069-bcd1-4b98-8526-9c1b9056a2cd": {
       "attrs": {
        "height": 0.8,
        "width": 0.8,
        "x": 0.1,
        "y": 0.1
       },
       "content": {
        "cell": "042cb4fd-b94e-4d7b-9667-fd0b087b074a",
        "part": "whole"
       },
       "id": "dad1f069-bcd1-4b98-8526-9c1b9056a2cd"
      }
     }
    },
    "c2c86084-a81c-448e-9e2e-53cf31374d61": {
     "id": "c2c86084-a81c-448e-9e2e-53cf31374d61",
     "prev": "95f59796-7dbb-4f09-950c-dc1fd9861e63",
     "regions": {
      "6b3fc3da-4d65-42f2-8d9c-0d238f9aa9af": {
       "attrs": {
        "height": 0.8,
        "width": 0.8,
        "x": 0.1,
        "y": 0.1
       },
       "content": {
        "cell": "58d3f034-4bf4-46b0-bd9f-18245b29c0ac",
        "part": "whole"
       },
       "id": "6b3fc3da-4d65-42f2-8d9c-0d238f9aa9af"
      }
     }
    },
    "c8a21eaa-e5d2-4ee9-82b0-7e08b4ac89c0": {
     "id": "c8a21eaa-e5d2-4ee9-82b0-7e08b4ac89c0",
     "prev": "6d969d0d-f009-4922-a4d2-8bedec46ccb4",
     "regions": {
      "850965fc-b63b-43dc-9c5b-928f0a7051be": {
       "attrs": {
        "height": 0.8,
        "width": 0.8,
        "x": 0.1,
        "y": 0.1
       },
       "content": {
        "cell": "1c1f88ef-ddee-419b-b47b-5bf0dd9d568f",
        "part": "whole"
       },
       "id": "850965fc-b63b-43dc-9c5b-928f0a7051be"
      }
     }
    },
    "cb6abaff-0c89-4618-81c9-dfb6def096b2": {
     "id": "cb6abaff-0c89-4618-81c9-dfb6def096b2",
     "prev": "d4191e74-6533-4e78-a002-b38d90856993",
     "regions": {
      "619bbc44-9f25-465f-be9a-cf0f180985af": {
       "attrs": {
        "height": 0.8,
        "width": 0.8,
        "x": 0.1,
        "y": 0.1
       },
       "content": {
        "cell": "e145ce34-7843-47f0-bab3-058dbe65a951",
        "part": "whole"
       },
       "id": "619bbc44-9f25-465f-be9a-cf0f180985af"
      }
     }
    },
    "cbbb07b3-498b-43f5-b3f7-446bea97064a": {
     "id": "cbbb07b3-498b-43f5-b3f7-446bea97064a",
     "prev": "4e9d80e1-5291-49ef-b7e7-eb7157e8f4a3",
     "regions": {
      "921ef546-3e2a-4cd4-b345-06d632c49739": {
       "attrs": {
        "height": 0.8,
        "width": 0.8,
        "x": 0.1,
        "y": 0.1
       },
       "content": {
        "cell": "b33b393f-baa2-4e13-8b41-98c1d9747844",
        "part": "whole"
       },
       "id": "921ef546-3e2a-4cd4-b345-06d632c49739"
      }
     }
    },
    "cc0d06ab-e7d6-4cdf-a3f2-fbf31e677e72": {
     "id": "cc0d06ab-e7d6-4cdf-a3f2-fbf31e677e72",
     "prev": "80746e4a-55be-4ffb-bb23-0ebac11c10ec",
     "regions": {
      "89bbe9e2-8ca6-43c5-8fb5-47f33387c228": {
       "attrs": {
        "height": 0.8,
        "width": 0.8,
        "x": 0.1,
        "y": 0.1
       },
       "content": {
        "cell": "5406f817-187c-4699-9a70-5641eb2e80cb",
        "part": "whole"
       },
       "id": "89bbe9e2-8ca6-43c5-8fb5-47f33387c228"
      }
     }
    },
    "d4191e74-6533-4e78-a002-b38d90856993": {
     "id": "d4191e74-6533-4e78-a002-b38d90856993",
     "prev": "394789f1-4bc6-4b2e-a963-3db36e36996b",
     "regions": {
      "5f57c351-eee6-4b21-9816-8ede7575557e": {
       "attrs": {
        "height": 0.8,
        "width": 0.8,
        "x": 0.1,
        "y": 0.1
       },
       "content": {
        "cell": "ef36be8c-27ab-4961-9218-2d4f5234db3c",
        "part": "whole"
       },
       "id": "5f57c351-eee6-4b21-9816-8ede7575557e"
      }
     }
    },
    "d430f02a-3d46-409a-bf69-c71d44bcdc14": {
     "id": "d430f02a-3d46-409a-bf69-c71d44bcdc14",
     "prev": "c2c86084-a81c-448e-9e2e-53cf31374d61",
     "regions": {
      "d7f21525-8307-4ed1-96ce-a3839875fcb3": {
       "attrs": {
        "height": 0.8,
        "width": 0.8,
        "x": 0.1,
        "y": 0.1
       },
       "content": {
        "cell": "983546ef-e6a6-4f74-97da-008bcbceefac",
        "part": "whole"
       },
       "id": "d7f21525-8307-4ed1-96ce-a3839875fcb3"
      }
     }
    },
    "d56a3ba3-9b3d-426a-803d-c2975df2988e": {
     "id": "d56a3ba3-9b3d-426a-803d-c2975df2988e",
     "prev": "4d9a51a9-98fb-4647-aa84-4ad81cdd68ef",
     "regions": {
      "ed8f527b-5c11-429e-8eb4-b50ba088ffb8": {
       "attrs": {
        "height": 0.8,
        "width": 0.8,
        "x": 0.1,
        "y": 0.1
       },
       "content": {
        "cell": "3e640779-f697-4a90-82c4-998053c2f863",
        "part": "whole"
       },
       "id": "ed8f527b-5c11-429e-8eb4-b50ba088ffb8"
      }
     }
    },
    "d9faf521-2d9a-43fc-a42b-80f9a77dff62": {
     "id": "d9faf521-2d9a-43fc-a42b-80f9a77dff62",
     "prev": "cc0d06ab-e7d6-4cdf-a3f2-fbf31e677e72",
     "regions": {
      "b8e416ec-eea5-421a-afca-deda3ff363f7": {
       "attrs": {
        "height": 0.8,
        "width": 0.8,
        "x": 0.1,
        "y": 0.1
       },
       "content": {
        "cell": "8d707134-9fc5-4726-8632-ff8adcc5874b",
        "part": "whole"
       },
       "id": "b8e416ec-eea5-421a-afca-deda3ff363f7"
      }
     }
    },
    "e0ace681-763e-40b1-8be3-afc19c396e2f": {
     "id": "e0ace681-763e-40b1-8be3-afc19c396e2f",
     "prev": "d9faf521-2d9a-43fc-a42b-80f9a77dff62",
     "regions": {
      "38b4d06e-f9c5-4b18-9e06-3c06d2fe5337": {
       "attrs": {
        "height": 0.8,
        "width": 0.8,
        "x": 0.1,
        "y": 0.1
       },
       "content": {
        "cell": "42eaeda6-8cad-4c62-bb03-686f4ff6f403",
        "part": "whole"
       },
       "id": "38b4d06e-f9c5-4b18-9e06-3c06d2fe5337"
      }
     }
    },
    "e40d996e-9b03-4ba2-9a74-89f0aa3b8932": {
     "id": "e40d996e-9b03-4ba2-9a74-89f0aa3b8932",
     "prev": "1272a6a9-7016-4076-9165-0ddd3fa346ff",
     "regions": {
      "04a59772-617b-4790-b620-06924d80a6c9": {
       "attrs": {
        "height": 0.8,
        "width": 0.8,
        "x": 0.1,
        "y": 0.1
       },
       "content": {
        "cell": "96ec19e4-c4c9-4aa4-8029-e08e502ee974",
        "part": "whole"
       },
       "id": "04a59772-617b-4790-b620-06924d80a6c9"
      }
     }
    },
    "e904d68a-8788-4014-8de4-b632db85924d": {
     "id": "e904d68a-8788-4014-8de4-b632db85924d",
     "prev": "11d81164-7047-4fac-b9fe-c5fa1cbb24ba",
     "regions": {
      "cf4875b6-f638-4fb6-a461-2a837da3f03a": {
       "attrs": {
        "height": 0.8,
        "width": 0.8,
        "x": 0.1,
        "y": 0.1
       },
       "content": {
        "cell": "4b5bccd4-334d-4eeb-8a90-b4b2385f1046",
        "part": "whole"
       },
       "id": "cf4875b6-f638-4fb6-a461-2a837da3f03a"
      }
     }
    },
    "e934b62f-92a3-44e5-adf5-cbec0ac38c76": {
     "id": "e934b62f-92a3-44e5-adf5-cbec0ac38c76",
     "prev": "e40d996e-9b03-4ba2-9a74-89f0aa3b8932",
     "regions": {
      "b0bc2fea-b762-484d-b960-0b0bc629ee6d": {
       "attrs": {
        "height": 0.8,
        "width": 0.8,
        "x": 0.1,
        "y": 0.1
       },
       "content": {
        "cell": "2e26bfb3-7c9d-4c17-bbf4-bcc3d06fc8c1",
        "part": "whole"
       },
       "id": "b0bc2fea-b762-484d-b960-0b0bc629ee6d"
      }
     }
    },
    "edcf0f8a-1c46-4cb6-81ae-48b8b2919bf4": {
     "id": "edcf0f8a-1c46-4cb6-81ae-48b8b2919bf4",
     "prev": "6f7b624a-d5e0-4a37-bac2-e10ff8fd7f12",
     "regions": {
      "d41dfdf5-5cf4-4ab3-9002-88030c2b9f1a": {
       "attrs": {
        "height": 0.8,
        "width": 0.8,
        "x": 0.1,
        "y": 0.1
       },
       "content": {
        "cell": "7d0426ab-c490-46dd-bde3-7e5693f15296",
        "part": "whole"
       },
       "id": "d41dfdf5-5cf4-4ab3-9002-88030c2b9f1a"
      }
     }
    },
    "ee5c3e81-0c9f-4811-89b2-b46e5eed5328": {
     "id": "ee5c3e81-0c9f-4811-89b2-b46e5eed5328",
     "prev": "76a3cfdf-3fb8-4164-9c30-8e51e3849cf0",
     "regions": {
      "0861e38a-cba0-4097-a42c-b36378978b52": {
       "attrs": {
        "height": 0.8,
        "width": 0.8,
        "x": 0.1,
        "y": 0.1
       },
       "content": {
        "cell": "f2d731ea-a4f8-45bb-9671-6ca10aa19189",
        "part": "whole"
       },
       "id": "0861e38a-cba0-4097-a42c-b36378978b52"
      }
     }
    },
    "f8b67542-7616-47bf-a785-5b8fcb7479db": {
     "id": "f8b67542-7616-47bf-a785-5b8fcb7479db",
     "prev": "ee5c3e81-0c9f-4811-89b2-b46e5eed5328",
     "regions": {
      "a86cd7e8-a083-4dde-82f0-4d7d46efd21e": {
       "attrs": {
        "height": 0.8,
        "width": 0.8,
        "x": 0.1,
        "y": 0.1
       },
       "content": {
        "cell": "0fab704d-7d6b-45a9-b274-3b5c7fc7791f",
        "part": "whole"
       },
       "id": "a86cd7e8-a083-4dde-82f0-4d7d46efd21e"
      }
     }
    },
    "faff6b27-1b0e-47cd-874d-3f0f6ff002a2": {
     "id": "faff6b27-1b0e-47cd-874d-3f0f6ff002a2",
     "prev": "753f47a8-d105-4749-9ca3-7ac8c6b8ce06",
     "regions": {
      "7cf3f859-7e11-4ca5-b53d-72c330e41387": {
       "attrs": {
        "height": 0.8,
        "width": 0.8,
        "x": 0.1,
        "y": 0.1
       },
       "content": {
        "cell": "0aaf411d-a8a3-4e35-bd7a-f7c7c4d3e13a",
        "part": "whole"
       },
       "id": "7cf3f859-7e11-4ca5-b53d-72c330e41387"
      }
     }
    }
   },
   "themes": {}
  }
 },
 "nbformat": 4,
 "nbformat_minor": 1
}
