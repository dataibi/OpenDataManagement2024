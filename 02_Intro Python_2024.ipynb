{
 "cells": [
  {
   "cell_type": "markdown",
   "metadata": {},
   "source": [
    "## Operatori aritmetici"
   ]
  },
  {
   "cell_type": "markdown",
   "metadata": {},
   "source": [
    "|Operatore\t|Nome\t|Descrizione |\n",
    "|-----------|-------|------------|\n",
    "|a + b\t|Addizione\t|Somma di a e b|\n",
    "|a - b\t|Sottrazione\t|Differenza di a e b|\n",
    "|a * b\t|Moltiplicazione\t|Prodotto di a e b|\n",
    "|a / b\t|Divisione\t|Divisione di a e b|\n",
    "|a // b\t|Divisione parte intera\t|Divisione di a e b, senza la parte frazionaria|\n",
    "|a % b\t|Modulo\t|L'intero della divisione tra a e b|\n",
    "|a ** b\t|Esponenziale\t|a elevato a b|\n",
    "|-a\t|Negazione\t|Il valore negativo di a|\n",
    "|+a\t|Operatore unario\t|valore di a non mutato (usato raramente)|"
   ]
  },
  {
   "cell_type": "markdown",
   "metadata": {},
   "source": [
    "In Python 3.5 è stato aggiunto l'operatore @:\n",
    "\n",
    "a @ b \n",
    "\n",
    "che inica il prodotto matriciale di a e b da usare nei package di algebra lineare."
   ]
  },
  {
   "cell_type": "markdown",
   "metadata": {},
   "source": [
    "## Operatori binari"
   ]
  },
  {
   "cell_type": "markdown",
   "metadata": {},
   "source": [
    "|Operator\t|Name\t|Description |\n",
    "|-----------|-------|------------|\n",
    "|a & b\t|Bitwise AND\t|Bits defined in both a and b |\n",
    "|a \\| b\t|Bitwise OR\t|Bits defined in a or b or both |\n",
    "|a ^ b\t|Bitwise XOR\t|Bits defined in a or b but not both |\n",
    "|a << b\t|Bit shift left\t|Shift bits of a left by b units|\n",
    "|a >> b\t|Bit shift right\t|Shift bits of a right by b units|\n",
    "|~a\t|Bitwise NOT\t|Bitwise negation of a|"
   ]
  },
  {
   "cell_type": "code",
   "execution_count": null,
   "metadata": {},
   "outputs": [],
   "source": [
    "bin(20)"
   ]
  },
  {
   "cell_type": "markdown",
   "metadata": {},
   "source": [
    "## Operatori di confronto"
   ]
  },
  {
   "cell_type": "markdown",
   "metadata": {},
   "source": [
    "|Operation\t|Description\t\t|Operation\tDescription|\n",
    "|-----------|-------------------|----------------------|\n",
    "|a == b\t|a equal to b\t\t|a != b\ta not equal to b|\n",
    "|a < b\t|a less than b\t\t|a > b\ta greater than b|\n",
    "|a <= b\t|a less than or equal to b\t|\ta >= b\ta greater than or equal to b|"
   ]
  },
  {
   "cell_type": "markdown",
   "metadata": {},
   "source": [
    "## Operatori identità"
   ]
  },
  {
   "cell_type": "markdown",
   "metadata": {},
   "source": [
    "| Operatore\t| Descrizione |\n",
    "|-----------|-------------|\n",
    "|a is b\t|True se a e b sono identici |\n",
    "|a is not b\t|True se a e b non sono uguali |\n",
    "|a in b\t|True se a è un membro di b |\n",
    "|a not in b\t|True se a non è un membro di b |"
   ]
  },
  {
   "cell_type": "code",
   "execution_count": null,
   "metadata": {},
   "outputs": [],
   "source": [
    "a = [1, 2, 3]\n",
    "b = [1, 2, 3]"
   ]
  },
  {
   "cell_type": "code",
   "execution_count": null,
   "metadata": {},
   "outputs": [],
   "source": [
    "a == b"
   ]
  },
  {
   "cell_type": "code",
   "execution_count": null,
   "metadata": {},
   "outputs": [],
   "source": [
    "a is b"
   ]
  },
  {
   "cell_type": "code",
   "execution_count": null,
   "metadata": {},
   "outputs": [],
   "source": [
    "a = [1, 2, 3]\n",
    "b = a\n",
    "a is b"
   ]
  },
  {
   "cell_type": "code",
   "execution_count": null,
   "metadata": {},
   "outputs": [],
   "source": [
    "id(a)"
   ]
  },
  {
   "cell_type": "code",
   "execution_count": null,
   "metadata": {},
   "outputs": [],
   "source": [
    "id(b)"
   ]
  },
  {
   "cell_type": "code",
   "execution_count": null,
   "metadata": {},
   "outputs": [],
   "source": [
    "1 in a"
   ]
  },
  {
   "cell_type": "code",
   "execution_count": null,
   "metadata": {},
   "outputs": [],
   "source": [
    "stringa = \"Ciao a tutti\""
   ]
  },
  {
   "cell_type": "code",
   "execution_count": null,
   "metadata": {},
   "outputs": [],
   "source": [
    "\"Ciao\" in stringa.lower()"
   ]
  },
  {
   "cell_type": "code",
   "execution_count": null,
   "metadata": {},
   "outputs": [],
   "source": [
    "lista = [\"ciao\",\"mondo\",\"oggi\"]"
   ]
  },
  {
   "cell_type": "code",
   "execution_count": null,
   "metadata": {},
   "outputs": [],
   "source": [
    "\"mondo\" in lista"
   ]
  },
  {
   "cell_type": "markdown",
   "metadata": {
    "nbpresent": {
     "id": "f4a78003-14ae-464c-ac56-3637c48a4cb4"
    }
   },
   "source": [
    "# Costrutti"
   ]
  },
  {
   "cell_type": "markdown",
   "metadata": {},
   "source": [
    "Il controllo di flusso condizionale e iterativo flusso di controllo costituiscono elementi fondamentali della programmazione. Senza di essi, un programma sarebbe semplicemente un elenco di istruzioni che vengono eseguite in sequenza. \n",
    "\n",
    "Con il controllo di flusso, si possono eseguire determinati blocchi di codice in modo selettivo o ripetutamente.\n",
    "\n",
    "Questi elementi di base possono essere combinati tra loro per creare programmi sorprendentemente sofisticati!"
   ]
  },
  {
   "cell_type": "markdown",
   "metadata": {
    "nbpresent": {
     "id": "3e640779-f697-4a90-82c4-998053c2f863"
    }
   },
   "source": [
    "### if ... "
   ]
  },
  {
   "cell_type": "markdown",
   "metadata": {},
   "source": [
    "Nel controllo di flusso condizionale la parola chiave *if* inizia l'istruzione. Dopo *if*, deve essere inclusa una condizione logica. Una condizione logica è una variabile o una espressione che può essere valutata come *True* o *False*. \n",
    "\n",
    "Dopo l'istruzione *if*, viene inclusa una sezione di codice da eseguire quando la condizione è *Tru*e. La sezione di codice da eseguire deve essere rientrata e ogni riga in questa sezione di codice deve essere rientrata dello stesso numero di spazi. Per convenzione, in Python viene utilizzato il rientro di quattro spazi. La maggior parte degli editor di codice Python aiutano a gestire il rientro dell codice dopo le istruzioni if automaticamente."
   ]
  },
  {
   "cell_type": "markdown",
   "metadata": {},
   "source": [
    "    if <condizione logica>:\n",
    "        <codice da eseguire>"
   ]
  },
  {
   "cell_type": "code",
   "execution_count": null,
   "metadata": {
    "nbpresent": {
     "id": "11f26db5-0b4e-428a-87b5-a418c2f10a12"
    }
   },
   "outputs": [],
   "source": [
    "a = 3\n",
    "\n",
    "if a > 5 :\n",
    "    print(\"maggiore di 5\")\n",
    "    print(\"aaaa\")\n",
    "\n",
    "print(\"bbb\")"
   ]
  },
  {
   "cell_type": "markdown",
   "metadata": {},
   "source": [
    "### if ... else ..."
   ]
  },
  {
   "cell_type": "markdown",
   "metadata": {},
   "source": [
    "In Python, le istruzioni *if* possono includere clausole *else*. Una clausola *else* è una sezione di codice che viene eseguita se la condizione logica dell'istruzione *if* è *False*. Se l'istruzione *if* è *True*, la sezione di codice sotto la clausola *else* non viene eseguita.\n",
    "\n",
    "La parola chiave *else* deve trovarsi allo stesso livello di indentazione della parola chiave *if* a cui corrisponde."
   ]
  },
  {
   "cell_type": "markdown",
   "metadata": {},
   "source": [
    "    if <condizione logica>:\n",
    "        <blocco 1>\n",
    "    else:\n",
    "        <blocco 2>"
   ]
  },
  {
   "cell_type": "code",
   "execution_count": null,
   "metadata": {},
   "outputs": [],
   "source": [
    "a = 3\n",
    "\n",
    "if a > 5 :\n",
    "    print(\"maggiore di 5\")\n",
    "else:\n",
    "    print(\"minore o uguale a 5\")\n",
    "\n",
    "print(\"eseguito sempre\")"
   ]
  },
  {
   "cell_type": "markdown",
   "metadata": {},
   "source": [
    "**if annidati**"
   ]
  },
  {
   "cell_type": "code",
   "execution_count": null,
   "metadata": {},
   "outputs": [],
   "source": [
    "a=5\n",
    "if a > 5 :\n",
    "    print(\"maggiore di 5\")\n",
    "else:\n",
    "    if a<5 :\n",
    "        print(\"minore di 5\")\n",
    "    else:\n",
    "        print(\"uguale a 5\")"
   ]
  },
  {
   "cell_type": "code",
   "execution_count": null,
   "metadata": {},
   "outputs": [],
   "source": [
    "a=5\n",
    "if a > 5 :\n",
    "    print(\"maggiore di 5\")\n",
    "elif a<5 :\n",
    "    print(\"minore di 5\")\n",
    "else:\n",
    "    print(\"uguale a 5\")"
   ]
  },
  {
   "cell_type": "markdown",
   "metadata": {},
   "source": [
    "Più elif di seguito:"
   ]
  },
  {
   "cell_type": "code",
   "execution_count": null,
   "metadata": {},
   "outputs": [],
   "source": [
    "score = 71\n",
    "if score > 90:\n",
    "    grade = 'A*'\n",
    "elif score > 70:\n",
    "    grade = 'B'\n",
    "elif score > 50:\n",
    "    grade = 'pass'\n",
    "else:\n",
    "    grade = 'fail'"
   ]
  },
  {
   "cell_type": "code",
   "execution_count": null,
   "metadata": {},
   "outputs": [],
   "source": [
    "grade"
   ]
  },
  {
   "cell_type": "markdown",
   "metadata": {},
   "source": [
    "oppure possiamo compattarlo nel modo seguente:"
   ]
  },
  {
   "cell_type": "code",
   "execution_count": null,
   "metadata": {},
   "outputs": [],
   "source": [
    "score = 57\n",
    "grade = 'A*' if score>90 else 'pass' if score>50 else 'fail'"
   ]
  },
  {
   "cell_type": "markdown",
   "metadata": {
    "nbpresent": {
     "id": "036b982b-ef8c-44c9-b1ae-70098dba040b"
    }
   },
   "source": [
    "### Cicli"
   ]
  },
  {
   "cell_type": "markdown",
   "metadata": {},
   "source": [
    "I loop in Python sono un modo per eseguire ripetutamente alcune istruzioni di codice. Possiamo distinguere i loop con l'istruzione *while* e quelli con l'istruzione *for*"
   ]
  },
  {
   "cell_type": "markdown",
   "metadata": {},
   "source": [
    "### Ciclo _while_\n",
    "\n",
    "Un ciclo while è un tipo di ciclo che viene eseguito finché una condizione logica ha valore *True*. Quando la condizione logica diventa *False*, il ciclo si interrompe. La forma generale di un ciclo while in Python è la seguente:\n",
    "\n",
    "\n",
    "    while <condizione_logica>:\n",
    "         <codice>\n",
    "         \n",
    "Il \\<codice> dopo l'istruzione _while_ deve essere rientrato. Ogni riga di codice eseguita nel ciclo while deve essere indentata dello stesso numero di spazi (quattro spazi di rientro è lo standard Python)."
   ]
  },
  {
   "cell_type": "code",
   "execution_count": null,
   "metadata": {
    "nbpresent": {
     "id": "89a0e611-c617-4a23-a370-3e1f945610b3"
    }
   },
   "outputs": [],
   "source": [
    "n=3\n",
    "while n > 0:\n",
    "    print (n)\n",
    "    n = n-1"
   ]
  },
  {
   "cell_type": "markdown",
   "metadata": {},
   "source": [
    "### Ciclo for\n",
    "\n",
    "La struttura base per un loop con l'istruzione for in Python è:"
   ]
  },
  {
   "cell_type": "markdown",
   "metadata": {},
   "source": [
    "    for <var> in range(<num>):\n",
    "        <code>"
   ]
  },
  {
   "cell_type": "markdown",
   "metadata": {},
   "source": [
    "Dove \\<var> può essere qualsiasi variabile, range(\\<num>) è il numero di volte in cui viene eseguito il ciclo for e \\<code> sono le righe di codice che vengono eseguite ogni volta che viene eseguito il ciclo for.\n",
    "\n",
    "Nota che il ciclo for inizia con la parola chiave for e include i due punti :. Sia for che i due punti : sono obbligatori. Inoltre, nota \\<code> è rientrato. Ogni riga di codice che viene eseguita come parte del ciclo for deve essere indentata dello stesso numero di spazi. Il rientro standard in Python è di quattro spazi."
   ]
  },
  {
   "cell_type": "code",
   "execution_count": null,
   "metadata": {},
   "outputs": [],
   "source": [
    "for i in range(10):\n",
    "    print(i)"
   ]
  },
  {
   "cell_type": "code",
   "execution_count": null,
   "metadata": {},
   "outputs": [],
   "source": [
    "for i in range(10):\n",
    "    print(i, end=' ')"
   ]
  },
  {
   "cell_type": "code",
   "execution_count": null,
   "metadata": {},
   "outputs": [],
   "source": [
    "for i in range(0,10):\n",
    "    print(i, end=' ')"
   ]
  },
  {
   "cell_type": "markdown",
   "metadata": {},
   "source": [
    "La funzione *range(n)* di Python restituisce un elenco _iterabile_ di valori che inizia da zero e termina con n-1. \n",
    "La funzione *range()* di Python può essere personalizzata, il suo formato generale è:\n",
    "\n",
    "    range (inizio, fine, passo)\n",
    "\n",
    "Quando viene chiamato range(3), produce lo stesso output di range(0,3,1) (inizio=0,fine=3,passo=1)."
   ]
  },
  {
   "cell_type": "code",
   "execution_count": null,
   "metadata": {},
   "outputs": [],
   "source": [
    "for count in range(1,10,2):\n",
    "    print (count)"
   ]
  },
  {
   "cell_type": "code",
   "execution_count": null,
   "metadata": {},
   "outputs": [],
   "source": [
    "for (i=inizio;i<fine;i=i+passo) {\n",
    "    ...\n",
    "}"
   ]
  },
  {
   "cell_type": "markdown",
   "metadata": {},
   "source": [
    "### _for_ con le liste\n",
    "\n",
    "Se volessimo stampare ciascuno degli elementi in una lista, possiamo usare un ciclo for:"
   ]
  },
  {
   "cell_type": "markdown",
   "metadata": {},
   "source": [
    "    for <var> in <list>:\n",
    "        <code>\n",
    "\n",
    "Dove \\<var> è un nome di variabile assegnato all'elemento della lista e \\<list> è la lista vera e propria, \\<code> è il codice che viene eseguito per ogni elemento nell'elenco."
   ]
  },
  {
   "cell_type": "code",
   "execution_count": null,
   "metadata": {},
   "outputs": [],
   "source": [
    "for N in [2,3,5,7]:\n",
    "    print(N)"
   ]
  },
  {
   "cell_type": "code",
   "execution_count": null,
   "metadata": {},
   "outputs": [],
   "source": [
    "for N in [2,3,5,7]:\n",
    "    print(N, end=' ')"
   ]
  },
  {
   "cell_type": "code",
   "execution_count": null,
   "metadata": {},
   "outputs": [],
   "source": [
    "primi = {2,3,5,7,11,13,17,19}\n",
    "for i in primi:\n",
    "    print(i, end=' ')"
   ]
  },
  {
   "cell_type": "code",
   "execution_count": null,
   "metadata": {},
   "outputs": [],
   "source": [
    "l = [0,1,2,3,4,5,6,7,8,9]"
   ]
  },
  {
   "cell_type": "code",
   "execution_count": null,
   "metadata": {},
   "outputs": [],
   "source": [
    "type(l)"
   ]
  },
  {
   "cell_type": "code",
   "execution_count": null,
   "metadata": {},
   "outputs": [],
   "source": [
    "type(range(1))"
   ]
  },
  {
   "cell_type": "markdown",
   "metadata": {},
   "source": [
    "### Break e Continue\n",
    "\n",
    "_Break_ e _continue_ sono due modi per modificare il comportamento dei cicli for e while.\n",
    "\n",
    "_break_\n",
    "\n",
    "In Python, la parola chiave _break_ fa sì che il programma termini un ciclo. _break_ fa uscire il programma dai cicli _for_ anche se il ciclo _for_ non è stato eseguito per il numero di volte specificato. _break_ fa uscire il programma dai cicli _while_ anche se la condizione logica è ancora _True_.\n",
    "\n",
    "Di seguito è riportato un esempio che utilizza l'interruzione in un ciclo for."
   ]
  },
  {
   "cell_type": "code",
   "execution_count": null,
   "metadata": {},
   "outputs": [],
   "source": [
    "for i in range(100):\n",
    "    print(i)\n",
    "    if i == 3:\n",
    "        break\n",
    "print('Uscito dal ciclo')"
   ]
  },
  {
   "cell_type": "markdown",
   "metadata": {},
   "source": [
    "_continue_\n",
    "\n",
    "In Python, la parola chiave _continue_ fa sì che il programma non esegue il codice all'interno del ciclo e va avanti al passo successivo. \n",
    "\n",
    "Di seguito è riportata una sezione di codice che utilizza _continue_ in un ciclo for."
   ]
  },
  {
   "cell_type": "code",
   "execution_count": null,
   "metadata": {},
   "outputs": [],
   "source": [
    "for i in range(4):\n",
    "    print(\"a\")\n",
    "    if i==2:\n",
    "        continue\n",
    "    print(i)"
   ]
  },
  {
   "cell_type": "code",
   "execution_count": null,
   "metadata": {},
   "outputs": [],
   "source": [
    "for n in range(20):\n",
    "    if n % 2 == 0:\n",
    "        continue\n",
    "    print(n, end=' ')"
   ]
  },
  {
   "cell_type": "markdown",
   "metadata": {
    "nbpresent": {
     "id": "03cc3cc1-0257-4219-9764-eef4bf0b2050"
    }
   },
   "source": [
    "# Funzioni"
   ]
  },
  {
   "cell_type": "markdown",
   "metadata": {},
   "source": [
    "Un modo per organizzare il nostro codice Python e renderlo più leggibile e riutilizzabile è scomporre parti di codice in funzioni riutilizzabili. \n",
    "\n",
    "Python può creare funzioni con l'istruzione _def_ e con l'istruzione _lambda_, quest'ultima è utile per creare brevi funzioni \"anonime\"."
   ]
  },
  {
   "cell_type": "markdown",
   "metadata": {},
   "source": [
    "#### Definire una funzione"
   ]
  },
  {
   "cell_type": "code",
   "execution_count": null,
   "metadata": {
    "nbpresent": {
     "id": "f2d731ea-a4f8-45bb-9671-6ca10aa19189"
    }
   },
   "outputs": [],
   "source": [
    "def Pari(x):\n",
    "    if x%2 == 0:\n",
    "        print (x, \"e’ pari\")\n",
    "    else:\n",
    "        print (x, \"e’ dispari\")"
   ]
  },
  {
   "cell_type": "code",
   "execution_count": null,
   "metadata": {},
   "outputs": [],
   "source": [
    "a=4"
   ]
  },
  {
   "cell_type": "code",
   "execution_count": null,
   "metadata": {
    "nbpresent": {
     "id": "0fab704d-7d6b-45a9-b274-3b5c7fc7791f"
    }
   },
   "outputs": [],
   "source": [
    "Pari(a)"
   ]
  },
  {
   "cell_type": "code",
   "execution_count": null,
   "metadata": {
    "nbpresent": {
     "id": "e831dc00-fa04-404c-8a63-2c0b8aab7f7e"
    }
   },
   "outputs": [],
   "source": [
    "def Cubo(x):\n",
    "    ...\n",
    "    ...\n",
    "    return x*x*x"
   ]
  },
  {
   "cell_type": "code",
   "execution_count": null,
   "metadata": {},
   "outputs": [],
   "source": [
    "Cubo(2)"
   ]
  },
  {
   "cell_type": "code",
   "execution_count": null,
   "metadata": {},
   "outputs": [],
   "source": [
    "def Triplica(x):\n",
    "    return x*3"
   ]
  },
  {
   "cell_type": "code",
   "execution_count": null,
   "metadata": {
    "nbpresent": {
     "id": "018f712c-8546-443c-9b19-bb38c887d1df"
    }
   },
   "outputs": [],
   "source": [
    "a=Triplica(\"ciao\")"
   ]
  },
  {
   "cell_type": "code",
   "execution_count": null,
   "metadata": {},
   "outputs": [],
   "source": [
    "a"
   ]
  },
  {
   "cell_type": "markdown",
   "metadata": {},
   "source": [
    "Avendo familiarità con i linguaggi fortemente tipizzati come C, si nota immediatamente che non ci sono informazioni sul tipo associate agli argomenti e ai valori ritornati dalle funzioni. \n",
    "\n",
    "Le funzioni Python possono restituire qualsiasi oggetto Python, semplice o complesso. Questo comporta che operazioni che risultano difficili in altri linguaggi diventano semplici in Python.\n",
    "Ad esempio, più valori di ritorno sono semplicemente messi in una tupla, che è indicata da valori separati da virgole:"
   ]
  },
  {
   "cell_type": "code",
   "execution_count": null,
   "metadata": {},
   "outputs": [],
   "source": [
    "def real_imag_conj(val):\n",
    "    return val.real, val.imag, val.conjugate()\n",
    "\n",
    "r, i, c = real_imag_conj(3 + 4j)\n",
    "print(r, i, c)"
   ]
  },
  {
   "cell_type": "markdown",
   "metadata": {},
   "source": [
    "Le funzioni hanno degli attributi predefiniti"
   ]
  },
  {
   "cell_type": "code",
   "execution_count": null,
   "metadata": {},
   "outputs": [],
   "source": [
    "dir(real_imag_conj)"
   ]
  },
  {
   "cell_type": "code",
   "execution_count": null,
   "metadata": {},
   "outputs": [],
   "source": [
    "print(real_imag_conj.__name__)"
   ]
  },
  {
   "cell_type": "code",
   "execution_count": null,
   "metadata": {},
   "outputs": [],
   "source": [
    "def my_function(x):\n",
    "    \"\"\"This is a docstring for my_function.\"\"\"\n",
    "    return x * 2\n",
    "\n",
    "print(my_function.__name__)\n",
    "print(my_function.__doc__)\n",
    "print(my_function.__dict__)"
   ]
  },
  {
   "cell_type": "markdown",
   "metadata": {},
   "source": [
    "In Python anche una funzione è un oggetto, e come qualunque oggetto può avere attributi. \n",
    "\n",
    "Possiamo utilizzare gli attributi della funzione per definire informazioni aggiuntive sulla funzione. \n",
    "\n",
    "Ad esempio, supponiamo di voler tenere traccia di quante volte viene chiamata una funzione specifica. Possiamo impostare un attributo contatore che incrementiamo dopo ogni chiamata."
   ]
  },
  {
   "cell_type": "code",
   "execution_count": null,
   "metadata": {},
   "outputs": [],
   "source": [
    "def my_function(x):\n",
    "    if \"contator\" not in my_function.__dict__.keys():\n",
    "        my_function.contator=0\n",
    "        \n",
    "    my_function.contator += 1\n",
    "    return x * 2\n",
    "\n",
    "my_function(1)\n",
    "my_function(2)\n",
    "my_function(3)\n",
    "my_function(5)\n",
    "my_function(3)\n",
    "print(my_function.contator)"
   ]
  },
  {
   "cell_type": "code",
   "execution_count": null,
   "metadata": {},
   "outputs": [],
   "source": [
    "my_function.__dict__"
   ]
  },
  {
   "cell_type": "code",
   "execution_count": null,
   "metadata": {},
   "outputs": [],
   "source": [
    "def my_function (x):\n",
    "    if (my_function.is_verbose):\n",
    "        print(\"sto calcolando il prodotto\")\n",
    "    return x * 2\n",
    "\n",
    "my_function.is_verbose=True\n",
    "print(my_function(3))\n",
    "my_function.is_verbose=False\n",
    "print(my_function(4))"
   ]
  },
  {
   "cell_type": "markdown",
   "metadata": {},
   "source": [
    "#### Funzioni anonime (lambda) "
   ]
  },
  {
   "cell_type": "code",
   "execution_count": null,
   "metadata": {},
   "outputs": [],
   "source": [
    "lambda x, y : x + y"
   ]
  },
  {
   "cell_type": "code",
   "execution_count": null,
   "metadata": {},
   "outputs": [],
   "source": [
    "add=lambda x, y : x + y\n",
    "add(1,2)"
   ]
  },
  {
   "cell_type": "code",
   "execution_count": null,
   "metadata": {},
   "outputs": [],
   "source": [
    "add"
   ]
  },
  {
   "cell_type": "markdown",
   "metadata": {},
   "source": [
    "Equivalente a:"
   ]
  },
  {
   "cell_type": "code",
   "execution_count": null,
   "metadata": {},
   "outputs": [],
   "source": [
    "def add(x, y): \n",
    "    return x + y"
   ]
  },
  {
   "cell_type": "code",
   "execution_count": null,
   "metadata": {},
   "outputs": [],
   "source": [
    "add(1,2)"
   ]
  },
  {
   "cell_type": "code",
   "execution_count": null,
   "metadata": {},
   "outputs": [],
   "source": [
    "add"
   ]
  },
  {
   "cell_type": "code",
   "execution_count": null,
   "metadata": {},
   "outputs": [],
   "source": [
    "def test():\n",
    "    return 'ciao'\n",
    "\n",
    "# equivalente a\n",
    "\n",
    "test = lambda : 'ciao'"
   ]
  },
  {
   "cell_type": "code",
   "execution_count": null,
   "metadata": {},
   "outputs": [],
   "source": [
    "def test2(a,b,c,d):\n",
    "    return (a+b) / (c-d)\n",
    "\n",
    "# equivalente a \n",
    "\n",
    "test2 = lambda a,b,c,d : (a+b) / (c-d)"
   ]
  },
  {
   "cell_type": "markdown",
   "metadata": {},
   "source": [
    "Allora, perché dovrei usare una cosa del genere? \n",
    "\n",
    "Teniamo presente che in Python tutto è un oggetto, anche le funzioni stesse! \n",
    "\n",
    "Ciò significa che le funzioni possono essere passate come argomenti alle funzioni.\n",
    "\n",
    "Ad esempio, supponiamo di avere alcuni dati memorizzati in una lista di dizionari:"
   ]
  },
  {
   "cell_type": "code",
   "execution_count": null,
   "metadata": {},
   "outputs": [],
   "source": [
    "dati = [{'nome':'Davide', 'cognome':'Taibi', 'anno_di_nascita':1977},\n",
    "            {'nome':'Mario', 'cognome':'Rossi', 'anno_di_nascita':1965},\n",
    "            {'nome':'Guido', 'cognome':'Bianchi', 'anno_di_nascita':1970}]"
   ]
  },
  {
   "cell_type": "code",
   "execution_count": null,
   "metadata": {},
   "outputs": [],
   "source": [
    "dati"
   ]
  },
  {
   "cell_type": "markdown",
   "metadata": {},
   "source": [
    "Ora supponiamo di voler ordinare questi dati. \n",
    "\n",
    "Python ha la funzione _sorted_ che fa questo:"
   ]
  },
  {
   "cell_type": "code",
   "execution_count": null,
   "metadata": {},
   "outputs": [],
   "source": [
    "sorted([2,4,3,5,1,6])"
   ]
  },
  {
   "cell_type": "code",
   "execution_count": null,
   "metadata": {},
   "outputs": [],
   "source": [
    "sorted(dati)"
   ]
  },
  {
   "cell_type": "markdown",
   "metadata": {},
   "source": [
    "Ma i dizionari non sono ordinabili direttamente: abbiamo bisogno di un modo per dire alla funzione come ordinare i nostri dati. \n",
    "\n",
    "Possiamo farlo specificando la funzione *chiave*, una funzione che, dato un oggetto, restituisce la chiave di ordinamento per quell'elemento:"
   ]
  },
  {
   "cell_type": "code",
   "execution_count": null,
   "metadata": {},
   "outputs": [],
   "source": [
    "sorted(dati, key=lambda item: item['anno_di_nascita'])"
   ]
  },
  {
   "cell_type": "code",
   "execution_count": null,
   "metadata": {},
   "outputs": [],
   "source": [
    "sorted(dati, key=lambda item: item['cognome'])"
   ]
  },
  {
   "cell_type": "markdown",
   "metadata": {},
   "source": [
    "Anche se queste funzioni _chiave_ potrebbero certamente essere create dalla normale sintassi _def_, la sintassi _lambda_ è comoda per quelle funzioni che si usano una tantum come queste."
   ]
  },
  {
   "cell_type": "code",
   "execution_count": null,
   "metadata": {},
   "outputs": [],
   "source": [
    "def cognome(item): \n",
    "    return item[\"cognome\"] "
   ]
  },
  {
   "cell_type": "code",
   "execution_count": null,
   "metadata": {},
   "outputs": [],
   "source": [
    "sorted(dati, key=cognome)"
   ]
  },
  {
   "cell_type": "code",
   "execution_count": null,
   "metadata": {},
   "outputs": [],
   "source": [
    "def nome(item): \n",
    "    return item[\"nome\"] "
   ]
  },
  {
   "cell_type": "code",
   "execution_count": null,
   "metadata": {},
   "outputs": [],
   "source": [
    "def anno_di_nascita(item): \n",
    "    return item[\"anno_di_nascita\"] "
   ]
  },
  {
   "cell_type": "markdown",
   "metadata": {},
   "source": [
    "Ma come viene usata una funzione nel mio ordinamento? sorted esegue un ordinamento simile a questo: "
   ]
  },
  {
   "cell_type": "code",
   "execution_count": null,
   "metadata": {},
   "outputs": [],
   "source": [
    "def ordina(x,key):\n",
    "    for i in range(1, len(x)):\n",
    "        k = key(x[i])\n",
    "        ele = x[i]\n",
    "        j = i-1\n",
    "        while j >=0 and k < key(x[j]) : \n",
    "            x[j+1] = x[j] \n",
    "            j -= 1\n",
    "        x[j+1] = ele "
   ]
  },
  {
   "cell_type": "code",
   "execution_count": null,
   "metadata": {},
   "outputs": [],
   "source": [
    "sorted(dati, key=nome)"
   ]
  },
  {
   "cell_type": "code",
   "execution_count": null,
   "metadata": {},
   "outputs": [],
   "source": [
    "ordina(dati, key=anno_di_nascita)"
   ]
  },
  {
   "cell_type": "code",
   "execution_count": null,
   "metadata": {},
   "outputs": [],
   "source": [
    "dati"
   ]
  },
  {
   "cell_type": "code",
   "execution_count": null,
   "metadata": {},
   "outputs": [],
   "source": [
    "ordina(dati, key=lambda item: item['anno_di_nascita'])"
   ]
  },
  {
   "cell_type": "code",
   "execution_count": null,
   "metadata": {},
   "outputs": [],
   "source": [
    "dati"
   ]
  },
  {
   "cell_type": "code",
   "execution_count": null,
   "metadata": {},
   "outputs": [],
   "source": [
    "ordina(dati,nome)"
   ]
  },
  {
   "cell_type": "markdown",
   "metadata": {},
   "source": [
    "Il seguente non è sintatticamente corretto:"
   ]
  },
  {
   "cell_type": "code",
   "execution_count": null,
   "metadata": {},
   "outputs": [],
   "source": [
    "ordina(dati, key=item['anno_di_nascita'])"
   ]
  },
  {
   "cell_type": "markdown",
   "metadata": {},
   "source": [
    "L'algoritmo implementato in _ordina_ è l'insertionSort (preso da qui: https://www.geeksforgeeks.org/python-program-for-insertion-sort/) mentre il _sorted_ di Python implementa il Timsort un algoritmo basato su insertion sort e merge sort (vedi: https://en.wikipedia.org/wiki/Timsort). Info anche qui (https://svn.python.org/projects/python/trunk/Objects/listsort.txt)"
   ]
  },
  {
   "cell_type": "code",
   "execution_count": null,
   "metadata": {},
   "outputs": [],
   "source": [
    "def insertionSort(arr): \n",
    "    # Traverse through 1 to len(arr) \n",
    "    for i in range(1, len(arr)): \n",
    "        key = arr[i] \n",
    "        # Move elements of arr[0..i-1], that are \n",
    "        # greater than key, to one position ahead \n",
    "        # of their current position \n",
    "        j = i-1\n",
    "        while j >=0 and key < arr[j] : \n",
    "                arr[j+1] = arr[j] \n",
    "                j -= 1\n",
    "        arr[j+1] = key "
   ]
  }
 ],
 "metadata": {
  "anaconda-cloud": {},
  "kernelspec": {
   "display_name": "Python 3 (ipykernel)",
   "language": "python",
   "name": "python3"
  },
  "language_info": {
   "codemirror_mode": {
    "name": "ipython",
    "version": 3
   },
   "file_extension": ".py",
   "mimetype": "text/x-python",
   "name": "python",
   "nbconvert_exporter": "python",
   "pygments_lexer": "ipython3",
   "version": "3.11.5"
  },
  "nbpresent": {
   "slides": {
    "05fbc29e-040c-42f1-92e8-6ea9c9e5d1bb": {
     "id": "05fbc29e-040c-42f1-92e8-6ea9c9e5d1bb",
     "prev": "46f39f01-04b1-4b98-a658-8cce9fa47b37",
     "regions": {
      "6d6fbd67-eeba-4bf1-b599-3a115b204ad1": {
       "attrs": {
        "height": 0.8,
        "width": 0.8,
        "x": 0.1,
        "y": 0.1
       },
       "content": {
        "cell": "89a0e611-c617-4a23-a370-3e1f945610b3",
        "part": "whole"
       },
       "id": "6d6fbd67-eeba-4bf1-b599-3a115b204ad1"
      }
     }
    },
    "0dcdabd2-50ce-4866-b3ca-ac4821218a4f": {
     "id": "0dcdabd2-50ce-4866-b3ca-ac4821218a4f",
     "prev": "6bb98a6f-f808-471e-8af6-3ec805c17a26",
     "regions": {
      "b7929dd9-7f63-40e3-ba93-927eb729f4bf": {
       "attrs": {
        "height": 0.8,
        "width": 0.8,
        "x": 0.1,
        "y": 0.1
       },
       "content": {
        "cell": "9bff614c-00dc-49ad-8386-efa8002125bb",
        "part": "whole"
       },
       "id": "b7929dd9-7f63-40e3-ba93-927eb729f4bf"
      }
     }
    },
    "1037f9f2-15ff-4122-aa19-1725d378406e": {
     "id": "1037f9f2-15ff-4122-aa19-1725d378406e",
     "prev": "e0ace681-763e-40b1-8be3-afc19c396e2f",
     "regions": {
      "bd703a86-4e4a-45af-8208-c0248ff90097": {
       "attrs": {
        "height": 0.8,
        "width": 0.8,
        "x": 0.1,
        "y": 0.1
       },
       "content": {
        "cell": "e4189b85-b810-439f-b0e2-9d8c6c77b2bf",
        "part": "whole"
       },
       "id": "bd703a86-4e4a-45af-8208-c0248ff90097"
      }
     }
    },
    "11d81164-7047-4fac-b9fe-c5fa1cbb24ba": {
     "id": "11d81164-7047-4fac-b9fe-c5fa1cbb24ba",
     "prev": "9574098c-70cc-456c-b401-00f99ec90f31",
     "regions": {
      "5ae5b42b-cdb0-45aa-b214-28988fe1b9f5": {
       "attrs": {
        "height": 0.8,
        "width": 0.8,
        "x": 0.1,
        "y": 0.1
       },
       "content": {
        "cell": "c93eb5ba-f9a0-4d71-95d8-3601369d481d",
        "part": "whole"
       },
       "id": "5ae5b42b-cdb0-45aa-b214-28988fe1b9f5"
      }
     }
    },
    "1272a6a9-7016-4076-9165-0ddd3fa346ff": {
     "id": "1272a6a9-7016-4076-9165-0ddd3fa346ff",
     "prev": "4dcbb552-42d3-4a6d-b9c0-fea57cf015b8",
     "regions": {
      "8d1d684b-3b5a-49f1-8f58-17fbf8059629": {
       "attrs": {
        "height": 0.8,
        "width": 0.8,
        "x": 0.1,
        "y": 0.1
       },
       "content": {
        "cell": "e3ee67f3-496a-4eba-b65b-3297a3790219",
        "part": "whole"
       },
       "id": "8d1d684b-3b5a-49f1-8f58-17fbf8059629"
      }
     }
    },
    "1fb99cfa-1a1b-4d60-87c7-03abf50cd90e": {
     "id": "1fb99cfa-1a1b-4d60-87c7-03abf50cd90e",
     "prev": "66de0ce3-ae0a-4090-b92f-576745c23803",
     "regions": {
      "1c44b0f2-98d2-45cd-a183-8406b5430333": {
       "attrs": {
        "height": 0.8,
        "width": 0.8,
        "x": 0.1,
        "y": 0.1
       },
       "content": {
        "cell": "7938d9b5-4672-4e73-9f51-091cb83356b1",
        "part": "whole"
       },
       "id": "1c44b0f2-98d2-45cd-a183-8406b5430333"
      }
     }
    },
    "290fa467-e94e-482c-bccd-86cef6aaf14b": {
     "id": "290fa467-e94e-482c-bccd-86cef6aaf14b",
     "prev": "3141931b-8d90-4f3f-8683-310ccc19bd1c",
     "regions": {
      "4b31b033-7f83-4f1b-a920-330f05aadc89": {
       "attrs": {
        "height": 0.8,
        "width": 0.8,
        "x": 0.1,
        "y": 0.1
       },
       "content": {
        "cell": "dab09041-31e6-4923-8b37-88ef9a905560",
        "part": "whole"
       },
       "id": "4b31b033-7f83-4f1b-a920-330f05aadc89"
      }
     }
    },
    "2c787429-d522-4aca-a3ca-4f58932aa36e": {
     "id": "2c787429-d522-4aca-a3ca-4f58932aa36e",
     "prev": "88ae630e-a95c-4e6e-a4a8-c9c93cc92d1a",
     "regions": {
      "72320b4b-4878-4b8f-85cc-6a2205303a2e": {
       "attrs": {
        "height": 0.8,
        "width": 0.8,
        "x": 0.1,
        "y": 0.1
       },
       "content": {
        "cell": "9401baae-204b-4042-b453-119ffa783193",
        "part": "whole"
       },
       "id": "72320b4b-4878-4b8f-85cc-6a2205303a2e"
      }
     }
    },
    "3141931b-8d90-4f3f-8683-310ccc19bd1c": {
     "id": "3141931b-8d90-4f3f-8683-310ccc19bd1c",
     "prev": "712c413c-c0e8-4c06-80c5-46e5a855492a",
     "regions": {
      "fa0a37ec-71c9-450b-8870-866a40709752": {
       "attrs": {
        "height": 0.8,
        "width": 0.8,
        "x": 0.1,
        "y": 0.1
       },
       "content": {
        "cell": "d692da7c-c656-4e4f-b420-12e277eef8c1",
        "part": "whole"
       },
       "id": "fa0a37ec-71c9-450b-8870-866a40709752"
      }
     }
    },
    "394789f1-4bc6-4b2e-a963-3db36e36996b": {
     "id": "394789f1-4bc6-4b2e-a963-3db36e36996b",
     "prev": "47a9957e-d16c-427e-bba4-e85393d0e339",
     "regions": {
      "6d1229c7-ec1a-4d58-a994-6ad35a038fbc": {
       "attrs": {
        "height": 0.8,
        "width": 0.8,
        "x": 0.1,
        "y": 0.1
       },
       "content": {
        "cell": "52e54a38-1b1c-4901-ad2b-ba708cbf9226",
        "part": "whole"
       },
       "id": "6d1229c7-ec1a-4d58-a994-6ad35a038fbc"
      }
     }
    },
    "3ccbb819-0cbe-42d9-896b-5c3ebe904249": {
     "id": "3ccbb819-0cbe-42d9-896b-5c3ebe904249",
     "prev": "a5552fe0-82c4-460a-a0e8-5bf24a63bd2d",
     "regions": {
      "2c0c3d3f-d4e3-4d6a-a11c-27d54bdb607e": {
       "attrs": {
        "height": 0.8,
        "width": 0.8,
        "x": 0.1,
        "y": 0.1
       },
       "content": {
        "cell": "be99b59a-bd50-4e0d-9254-98011267d514",
        "part": "whole"
       },
       "id": "2c0c3d3f-d4e3-4d6a-a11c-27d54bdb607e"
      }
     }
    },
    "46f39f01-04b1-4b98-a658-8cce9fa47b37": {
     "id": "46f39f01-04b1-4b98-a658-8cce9fa47b37",
     "prev": "74f4069e-f957-4200-8bee-2247961a0b8f",
     "regions": {
      "39943f6e-3167-43d8-a279-eac0c68a0827": {
       "attrs": {
        "height": 0.8,
        "width": 0.8,
        "x": 0.1,
        "y": 0.1
       },
       "content": {
        "cell": "036b982b-ef8c-44c9-b1ae-70098dba040b",
        "part": "whole"
       },
       "id": "39943f6e-3167-43d8-a279-eac0c68a0827"
      }
     }
    },
    "47a9957e-d16c-427e-bba4-e85393d0e339": {
     "id": "47a9957e-d16c-427e-bba4-e85393d0e339",
     "prev": "5fe25894-5d6a-428e-8beb-7f3e726d8d13",
     "regions": {
      "26ad5ecb-5c0d-4073-86d2-295cf725a8e1": {
       "attrs": {
        "height": 0.8,
        "width": 0.8,
        "x": 0.1,
        "y": 0.1
       },
       "content": {
        "cell": "c0c7fc87-580e-4e47-b74a-5b24aecc88b4",
        "part": "whole"
       },
       "id": "26ad5ecb-5c0d-4073-86d2-295cf725a8e1"
      }
     }
    },
    "4d9a51a9-98fb-4647-aa84-4ad81cdd68ef": {
     "id": "4d9a51a9-98fb-4647-aa84-4ad81cdd68ef",
     "prev": "b21635ae-0312-4f48-b4d0-6ec294585262",
     "regions": {
      "21385a7f-951e-4074-909f-d059fd15c254": {
       "attrs": {
        "height": 0.8,
        "width": 0.8,
        "x": 0.1,
        "y": 0.1
       },
       "content": {
        "cell": "f4a78003-14ae-464c-ac56-3637c48a4cb4",
        "part": "whole"
       },
       "id": "21385a7f-951e-4074-909f-d059fd15c254"
      }
     }
    },
    "4dcbb552-42d3-4a6d-b9c0-fea57cf015b8": {
     "id": "4dcbb552-42d3-4a6d-b9c0-fea57cf015b8",
     "prev": "88f9dc86-c2aa-48a4-bcb6-1d64124e1837",
     "regions": {
      "325af035-3975-44f0-9372-1d03c6680bd3": {
       "attrs": {
        "height": 0.8,
        "width": 0.8,
        "x": 0.1,
        "y": 0.1
       },
       "content": {
        "cell": "4216f01e-82fc-4b81-abc8-c695aa738dc3",
        "part": "whole"
       },
       "id": "325af035-3975-44f0-9372-1d03c6680bd3"
      }
     }
    },
    "4e9d80e1-5291-49ef-b7e7-eb7157e8f4a3": {
     "id": "4e9d80e1-5291-49ef-b7e7-eb7157e8f4a3",
     "prev": "d430f02a-3d46-409a-bf69-c71d44bcdc14",
     "regions": {
      "7ab17f73-9a8e-4572-b687-bda8a7f2da2b": {
       "attrs": {
        "height": 0.8,
        "width": 0.8,
        "x": 0.1,
        "y": 0.1
       },
       "content": {
        "cell": "6ea6db85-489e-4484-8984-1fd4e517fdb3",
        "part": "whole"
       },
       "id": "7ab17f73-9a8e-4572-b687-bda8a7f2da2b"
      }
     }
    },
    "56de28ea-3bfa-4a38-b8a7-1689a693f6a8": {
     "id": "56de28ea-3bfa-4a38-b8a7-1689a693f6a8",
     "prev": "75873ada-5439-40a3-b388-ca99d8908e09",
     "regions": {
      "a408956a-4796-4ad9-b70e-599ca00606ec": {
       "attrs": {
        "height": 0.8,
        "width": 0.8,
        "x": 0.1,
        "y": 0.1
       },
       "content": {
        "cell": "aa637427-9f4d-42fa-88db-3c508bcf4509",
        "part": "whole"
       },
       "id": "a408956a-4796-4ad9-b70e-599ca00606ec"
      }
     }
    },
    "574d59cd-7fcc-44cf-9488-f3496608cb43": {
     "id": "574d59cd-7fcc-44cf-9488-f3496608cb43",
     "prev": "cbbb07b3-498b-43f5-b3f7-446bea97064a",
     "regions": {
      "b2b30333-e9eb-4dab-aed5-3e21a92247d0": {
       "attrs": {
        "height": 0.8,
        "width": 0.8,
        "x": 0.1,
        "y": 0.1
       },
       "content": {
        "cell": "ee736210-6c71-4e23-8576-ac36a6952778",
        "part": "whole"
       },
       "id": "b2b30333-e9eb-4dab-aed5-3e21a92247d0"
      }
     }
    },
    "5fe25894-5d6a-428e-8beb-7f3e726d8d13": {
     "id": "5fe25894-5d6a-428e-8beb-7f3e726d8d13",
     "prev": "bf040e93-4a1a-4096-9bc0-1a3b67d0c8f4",
     "regions": {
      "d700a620-c1df-40a2-baba-049a364c5e38": {
       "attrs": {
        "height": 0.8,
        "width": 0.8,
        "x": 0.1,
        "y": 0.1
       },
       "content": {
        "cell": "3925e51b-166f-44b2-8098-52e66011ed72",
        "part": "whole"
       },
       "id": "d700a620-c1df-40a2-baba-049a364c5e38"
      }
     }
    },
    "6623d00c-fb73-4f44-9480-b142931fb6b8": {
     "id": "6623d00c-fb73-4f44-9480-b142931fb6b8",
     "prev": "faff6b27-1b0e-47cd-874d-3f0f6ff002a2",
     "regions": {
      "4d486dae-867d-422f-865f-d47667564c66": {
       "attrs": {
        "height": 0.8,
        "width": 0.8,
        "x": 0.1,
        "y": 0.1
       },
       "content": {
        "cell": "2cbd2356-0f6c-418e-90b6-61e3aa2ae0ce",
        "part": "whole"
       },
       "id": "4d486dae-867d-422f-865f-d47667564c66"
      }
     }
    },
    "66de0ce3-ae0a-4090-b92f-576745c23803": {
     "id": "66de0ce3-ae0a-4090-b92f-576745c23803",
     "prev": "e934b62f-92a3-44e5-adf5-cbec0ac38c76",
     "regions": {
      "11d2f6b7-c91f-455b-8321-e64f763b460f": {
       "attrs": {
        "height": 0.8,
        "width": 0.8,
        "x": 0.1,
        "y": 0.1
       },
       "content": {
        "cell": "a8cb08a0-c4d4-4524-a0b1-6a1a57caa90b",
        "part": "whole"
       },
       "id": "11d2f6b7-c91f-455b-8321-e64f763b460f"
      }
     }
    },
    "6bb98a6f-f808-471e-8af6-3ec805c17a26": {
     "id": "6bb98a6f-f808-471e-8af6-3ec805c17a26",
     "prev": "8cfcacba-965d-4823-b4dc-954fbe7621b6",
     "regions": {
      "76a84111-30cc-4777-9876-303bc62a04d1": {
       "attrs": {
        "height": 0.8,
        "width": 0.8,
        "x": 0.1,
        "y": 0.1
       },
       "content": {
        "cell": "3f934a21-f8b4-424f-b3df-fada580721d3",
        "part": "whole"
       },
       "id": "76a84111-30cc-4777-9876-303bc62a04d1"
      }
     }
    },
    "6d969d0d-f009-4922-a4d2-8bedec46ccb4": {
     "id": "6d969d0d-f009-4922-a4d2-8bedec46ccb4",
     "prev": "81b8ad8e-451e-463d-bba3-4a3d0bd7dd55",
     "regions": {
      "7ccb1605-2f42-43fa-a569-521365cf404e": {
       "attrs": {
        "height": 0.8,
        "width": 0.8,
        "x": 0.1,
        "y": 0.1
       },
       "content": {
        "cell": "c0620dc8-7672-43e5-8ff0-594f058c856f",
        "part": "whole"
       },
       "id": "7ccb1605-2f42-43fa-a569-521365cf404e"
      }
     }
    },
    "6df0c082-26af-41e3-98a7-16a5077cbe0e": {
     "id": "6df0c082-26af-41e3-98a7-16a5077cbe0e",
     "prev": "f8b67542-7616-47bf-a785-5b8fcb7479db",
     "regions": {
      "021a5176-a306-440c-99c5-d8a625bf8b46": {
       "attrs": {
        "height": 0.8,
        "width": 0.8,
        "x": 0.1,
        "y": 0.1
       },
       "content": {
        "cell": "e831dc00-fa04-404c-8a63-2c0b8aab7f7e",
        "part": "whole"
       },
       "id": "021a5176-a306-440c-99c5-d8a625bf8b46"
      }
     }
    },
    "6ee68258-c322-4be1-a39f-4fb70eb0b1dc": {
     "id": "6ee68258-c322-4be1-a39f-4fb70eb0b1dc",
     "prev": "7722ac92-68fb-40c1-a89f-174262ae2c0d",
     "regions": {
      "6e1fa148-cdf1-4a89-89ed-cb28a5c72686": {
       "attrs": {
        "height": 0.8,
        "width": 0.8,
        "x": 0.1,
        "y": 0.1
       },
       "content": {
        "cell": "4389ceaa-cb4b-41f2-b66c-7b355c021ce0",
        "part": "whole"
       },
       "id": "6e1fa148-cdf1-4a89-89ed-cb28a5c72686"
      }
     }
    },
    "6f7b624a-d5e0-4a37-bac2-e10ff8fd7f12": {
     "id": "6f7b624a-d5e0-4a37-bac2-e10ff8fd7f12",
     "prev": "78fdd37b-171e-422f-9d9a-4c7ebb7cc69f",
     "regions": {
      "220548e0-2ce9-42c3-833e-469ce04af92e": {
       "attrs": {
        "height": 0.8,
        "width": 0.8,
        "x": 0.1,
        "y": 0.1
       },
       "content": {
        "cell": "aa374bdf-4d99-4dfc-a09c-da12d33cc252",
        "part": "whole"
       },
       "id": "220548e0-2ce9-42c3-833e-469ce04af92e"
      }
     }
    },
    "7042bea2-63d8-4bf4-974a-88d1de595300": {
     "id": "7042bea2-63d8-4bf4-974a-88d1de595300",
     "prev": "c8a21eaa-e5d2-4ee9-82b0-7e08b4ac89c0",
     "regions": {
      "9f3c2157-48ea-4565-98d4-23f97937fad9": {
       "attrs": {
        "height": 0.8,
        "width": 0.8,
        "x": 0.1,
        "y": 0.1
       },
       "content": {
        "cell": "818664b9-c94f-4141-a90e-e2b9c0fe9eeb",
        "part": "whole"
       },
       "id": "9f3c2157-48ea-4565-98d4-23f97937fad9"
      }
     }
    },
    "712c413c-c0e8-4c06-80c5-46e5a855492a": {
     "id": "712c413c-c0e8-4c06-80c5-46e5a855492a",
     "prev": "6ee68258-c322-4be1-a39f-4fb70eb0b1dc",
     "regions": {
      "b25276df-5296-4fd2-9349-bb13e1c0989e": {
       "attrs": {
        "height": 0.8,
        "width": 0.8,
        "x": 0.1,
        "y": 0.1
       },
       "content": {
        "cell": "2fe34863-35de-43e5-8eb9-6c2299205621",
        "part": "whole"
       },
       "id": "b25276df-5296-4fd2-9349-bb13e1c0989e"
      }
     }
    },
    "74f4069e-f957-4200-8bee-2247961a0b8f": {
     "id": "74f4069e-f957-4200-8bee-2247961a0b8f",
     "prev": "d56a3ba3-9b3d-426a-803d-c2975df2988e",
     "regions": {
      "6a822e00-a0ba-46a0-baa9-588e9561e892": {
       "attrs": {
        "height": 0.8,
        "width": 0.8,
        "x": 0.1,
        "y": 0.1
       },
       "content": {
        "cell": "11f26db5-0b4e-428a-87b5-a418c2f10a12",
        "part": "whole"
       },
       "id": "6a822e00-a0ba-46a0-baa9-588e9561e892"
      }
     }
    },
    "753f47a8-d105-4749-9ca3-7ac8c6b8ce06": {
     "id": "753f47a8-d105-4749-9ca3-7ac8c6b8ce06",
     "prev": "0dcdabd2-50ce-4866-b3ca-ac4821218a4f",
     "regions": {
      "b96feefa-7e55-4c0e-9de1-0414150b79c2": {
       "attrs": {
        "height": 0.8,
        "width": 0.8,
        "x": 0.1,
        "y": 0.1
       },
       "content": {
        "cell": "2d8f2326-ac75-4702-a3ae-71600b527a24",
        "part": "whole"
       },
       "id": "b96feefa-7e55-4c0e-9de1-0414150b79c2"
      }
     }
    },
    "75873ada-5439-40a3-b388-ca99d8908e09": {
     "id": "75873ada-5439-40a3-b388-ca99d8908e09",
     "prev": "6df0c082-26af-41e3-98a7-16a5077cbe0e",
     "regions": {
      "cdae9f06-483b-42e8-b7a8-da21b60f5127": {
       "attrs": {
        "height": 0.8,
        "width": 0.8,
        "x": 0.1,
        "y": 0.1
       },
       "content": {
        "cell": "018f712c-8546-443c-9b19-bb38c887d1df",
        "part": "whole"
       },
       "id": "cdae9f06-483b-42e8-b7a8-da21b60f5127"
      }
     }
    },
    "76a3cfdf-3fb8-4164-9c30-8e51e3849cf0": {
     "id": "76a3cfdf-3fb8-4164-9c30-8e51e3849cf0",
     "prev": "3ccbb819-0cbe-42d9-896b-5c3ebe904249",
     "regions": {
      "00683752-4e37-4c92-a43e-93ffe8395d1e": {
       "attrs": {
        "height": 0.8,
        "width": 0.8,
        "x": 0.1,
        "y": 0.1
       },
       "content": {
        "cell": "03cc3cc1-0257-4219-9764-eef4bf0b2050",
        "part": "whole"
       },
       "id": "00683752-4e37-4c92-a43e-93ffe8395d1e"
      }
     }
    },
    "7722ac92-68fb-40c1-a89f-174262ae2c0d": {
     "id": "7722ac92-68fb-40c1-a89f-174262ae2c0d",
     "prev": "2c787429-d522-4aca-a3ca-4f58932aa36e",
     "regions": {
      "cecabb82-075f-4225-afaa-d7baec3b1907": {
       "attrs": {
        "height": 0.8,
        "width": 0.8,
        "x": 0.1,
        "y": 0.1
       },
       "content": {
        "cell": "b54d31d8-d2ef-42db-b902-fa856ecf8225",
        "part": "whole"
       },
       "id": "cecabb82-075f-4225-afaa-d7baec3b1907"
      }
     }
    },
    "78fdd37b-171e-422f-9d9a-4c7ebb7cc69f": {
     "id": "78fdd37b-171e-422f-9d9a-4c7ebb7cc69f",
     "prev": "e904d68a-8788-4014-8de4-b632db85924d",
     "regions": {
      "70c4e8e9-34f6-4693-a97d-9706a4963381": {
       "attrs": {
        "height": 0.8,
        "width": 0.8,
        "x": 0.1,
        "y": 0.1
       },
       "content": {
        "cell": "89fa82df-6ec8-4529-8979-064fe245ace4",
        "part": "whole"
       },
       "id": "70c4e8e9-34f6-4693-a97d-9706a4963381"
      }
     }
    },
    "80746e4a-55be-4ffb-bb23-0ebac11c10ec": {
     "id": "80746e4a-55be-4ffb-bb23-0ebac11c10ec",
     "prev": "56de28ea-3bfa-4a38-b8a7-1689a693f6a8",
     "regions": {
      "83cefce6-a784-4706-ae3d-0583fd492432": {
       "attrs": {
        "height": 0.8,
        "width": 0.8,
        "x": 0.1,
        "y": 0.1
       },
       "content": {
        "cell": "776bd522-a8f3-4904-98fb-410816fb9684",
        "part": "whole"
       },
       "id": "83cefce6-a784-4706-ae3d-0583fd492432"
      }
     }
    },
    "81b8ad8e-451e-463d-bba3-4a3d0bd7dd55": {
     "id": "81b8ad8e-451e-463d-bba3-4a3d0bd7dd55",
     "prev": "6623d00c-fb73-4f44-9480-b142931fb6b8",
     "regions": {
      "597a9c0f-ca24-438e-b252-a18aad01514d": {
       "attrs": {
        "height": 0.8,
        "width": 0.8,
        "x": 0.1,
        "y": 0.1
       },
       "content": {
        "cell": "02cdd1c4-14fb-4603-a6d6-0dd08608d688",
        "part": "whole"
       },
       "id": "597a9c0f-ca24-438e-b252-a18aad01514d"
      }
     }
    },
    "88ae630e-a95c-4e6e-a4a8-c9c93cc92d1a": {
     "id": "88ae630e-a95c-4e6e-a4a8-c9c93cc92d1a",
     "prev": "94d33e36-4091-45f7-8251-76118d3e0a97",
     "regions": {
      "ca744c9f-537d-4bcd-b1b6-80f5c8c3bac5": {
       "attrs": {
        "height": 0.8,
        "width": 0.8,
        "x": 0.1,
        "y": 0.1
       },
       "content": {
        "cell": "9575f727-78c7-4dfa-8be0-6db5e5a2d49b",
        "part": "whole"
       },
       "id": "ca744c9f-537d-4bcd-b1b6-80f5c8c3bac5"
      }
     }
    },
    "88f9dc86-c2aa-48a4-bcb6-1d64124e1837": {
     "id": "88f9dc86-c2aa-48a4-bcb6-1d64124e1837",
     "prev": "cb6abaff-0c89-4618-81c9-dfb6def096b2",
     "regions": {
      "f2389494-ad87-43b2-ab41-f87bdaec166f": {
       "attrs": {
        "height": 0.8,
        "width": 0.8,
        "x": 0.1,
        "y": 0.1
       },
       "content": {
        "cell": "f0b73716-4eb8-4b99-a219-0313f3cfd92d",
        "part": "whole"
       },
       "id": "f2389494-ad87-43b2-ab41-f87bdaec166f"
      }
     }
    },
    "8cfcacba-965d-4823-b4dc-954fbe7621b6": {
     "id": "8cfcacba-965d-4823-b4dc-954fbe7621b6",
     "prev": "290fa467-e94e-482c-bccd-86cef6aaf14b",
     "regions": {
      "803e415b-65f0-444b-8b26-f0f59aafbab1": {
       "attrs": {
        "height": 0.8,
        "width": 0.8,
        "x": 0.1,
        "y": 0.1
       },
       "content": {
        "cell": "02987002-3810-4c73-ab51-91690f6cc29e",
        "part": "whole"
       },
       "id": "803e415b-65f0-444b-8b26-f0f59aafbab1"
      }
     }
    },
    "8e914bf1-4b57-4863-a427-3189aa871222": {
     "id": "8e914bf1-4b57-4863-a427-3189aa871222",
     "prev": "7042bea2-63d8-4bf4-974a-88d1de595300",
     "regions": {
      "0f70e311-f196-4b80-8d97-675030754798": {
       "attrs": {
        "height": 0.8,
        "width": 0.8,
        "x": 0.1,
        "y": 0.1
       },
       "content": {
        "cell": "53307708-9336-4d73-a65f-048e5ddaf3e0",
        "part": "whole"
       },
       "id": "0f70e311-f196-4b80-8d97-675030754798"
      }
     }
    },
    "94d33e36-4091-45f7-8251-76118d3e0a97": {
     "id": "94d33e36-4091-45f7-8251-76118d3e0a97",
     "prev": "edcf0f8a-1c46-4cb6-81ae-48b8b2919bf4",
     "regions": {
      "bd5d59de-ec27-4efc-a8e7-f5b75b2cfde5": {
       "attrs": {
        "height": 0.8,
        "width": 0.8,
        "x": 0.1,
        "y": 0.1
       },
       "content": {
        "cell": "f32a6a6b-0951-4bff-b04b-f75091aff0e2",
        "part": "whole"
       },
       "id": "bd5d59de-ec27-4efc-a8e7-f5b75b2cfde5"
      }
     }
    },
    "953cc654-d1c2-4293-9fd5-b869dde4e1cb": {
     "id": "953cc654-d1c2-4293-9fd5-b869dde4e1cb",
     "prev": "ac7de46a-f366-497d-8d39-d6956a04b6d4",
     "regions": {
      "e08935b7-e17c-464e-9504-4ac52d777be2": {
       "attrs": {
        "height": 0.8,
        "width": 0.8,
        "x": 0.1,
        "y": 0.1
       },
       "content": {
        "cell": "496aef00-1219-4f68-9c8b-4ed863e32d64",
        "part": "whole"
       },
       "id": "e08935b7-e17c-464e-9504-4ac52d777be2"
      }
     }
    },
    "9574098c-70cc-456c-b401-00f99ec90f31": {
     "id": "9574098c-70cc-456c-b401-00f99ec90f31",
     "prev": "574d59cd-7fcc-44cf-9488-f3496608cb43",
     "regions": {
      "8791cdbb-d26f-4cf3-b18f-e51f3f6df39a": {
       "attrs": {
        "height": 0.8,
        "width": 0.8,
        "x": 0.1,
        "y": 0.1
       },
       "content": {
        "cell": "99a29f2a-7fd6-42a4-ad79-1b9ef5288b84",
        "part": "whole"
       },
       "id": "8791cdbb-d26f-4cf3-b18f-e51f3f6df39a"
      }
     }
    },
    "95f59796-7dbb-4f09-950c-dc1fd9861e63": {
     "id": "95f59796-7dbb-4f09-950c-dc1fd9861e63",
     "prev": null,
     "regions": {
      "9b435fb6-fdee-42ce-a064-1bd0432b9397": {
       "attrs": {
        "height": 0.8,
        "width": 0.8,
        "x": 0.1,
        "y": 0.1
       },
       "content": {
        "cell": "eb8dc1d0-5bd5-4d54-9909-c72c599d91db",
        "part": "whole"
       },
       "id": "9b435fb6-fdee-42ce-a064-1bd0432b9397"
      }
     }
    },
    "a3b3f126-2d94-43b8-a211-d65785017305": {
     "id": "a3b3f126-2d94-43b8-a211-d65785017305",
     "prev": "05fbc29e-040c-42f1-92e8-6ea9c9e5d1bb",
     "regions": {
      "a3c45c04-cda5-4d38-ac3a-6ebf750e267c": {
       "attrs": {
        "height": 0.8,
        "width": 0.8,
        "x": 0.1,
        "y": 0.1
       },
       "content": {
        "cell": "2e875098-e45b-4fb8-9f18-0813e8965d7f",
        "part": "whole"
       },
       "id": "a3c45c04-cda5-4d38-ac3a-6ebf750e267c"
      }
     }
    },
    "a5552fe0-82c4-460a-a0e8-5bf24a63bd2d": {
     "id": "a5552fe0-82c4-460a-a0e8-5bf24a63bd2d",
     "prev": "a3b3f126-2d94-43b8-a211-d65785017305",
     "regions": {
      "9fba4441-8f7e-43d2-9cac-b9f0f2b1f045": {
       "attrs": {
        "height": 0.8,
        "width": 0.8,
        "x": 0.1,
        "y": 0.1
       },
       "content": {
        "cell": "81a32d0a-e959-4712-99da-a547100c0b14",
        "part": "whole"
       },
       "id": "9fba4441-8f7e-43d2-9cac-b9f0f2b1f045"
      }
     }
    },
    "ac7de46a-f366-497d-8d39-d6956a04b6d4": {
     "id": "ac7de46a-f366-497d-8d39-d6956a04b6d4",
     "prev": "1037f9f2-15ff-4122-aa19-1725d378406e",
     "regions": {
      "6b483752-88fb-424e-a556-9f6a673fbf70": {
       "attrs": {
        "height": 0.8,
        "width": 0.8,
        "x": 0.1,
        "y": 0.1
       },
       "content": {
        "cell": "8e31fb00-b85f-4ac1-9bcd-125ca784333f",
        "part": "whole"
       },
       "id": "6b483752-88fb-424e-a556-9f6a673fbf70"
      }
     }
    },
    "b21635ae-0312-4f48-b4d0-6ec294585262": {
     "id": "b21635ae-0312-4f48-b4d0-6ec294585262",
     "prev": "1fb99cfa-1a1b-4d60-87c7-03abf50cd90e",
     "regions": {
      "35d6f9e6-38ae-42b5-b5a3-9939a5be6a98": {
       "attrs": {
        "height": 0.8,
        "width": 0.8,
        "x": 0.1,
        "y": 0.1
       },
       "content": {
        "cell": "a8db22c0-77f8-4456-8f4f-33378bdced7e",
        "part": "whole"
       },
       "id": "35d6f9e6-38ae-42b5-b5a3-9939a5be6a98"
      }
     }
    },
    "bf040e93-4a1a-4096-9bc0-1a3b67d0c8f4": {
     "id": "bf040e93-4a1a-4096-9bc0-1a3b67d0c8f4",
     "prev": "8e914bf1-4b57-4863-a427-3189aa871222",
     "regions": {
      "dad1f069-bcd1-4b98-8526-9c1b9056a2cd": {
       "attrs": {
        "height": 0.8,
        "width": 0.8,
        "x": 0.1,
        "y": 0.1
       },
       "content": {
        "cell": "042cb4fd-b94e-4d7b-9667-fd0b087b074a",
        "part": "whole"
       },
       "id": "dad1f069-bcd1-4b98-8526-9c1b9056a2cd"
      }
     }
    },
    "c2c86084-a81c-448e-9e2e-53cf31374d61": {
     "id": "c2c86084-a81c-448e-9e2e-53cf31374d61",
     "prev": "95f59796-7dbb-4f09-950c-dc1fd9861e63",
     "regions": {
      "6b3fc3da-4d65-42f2-8d9c-0d238f9aa9af": {
       "attrs": {
        "height": 0.8,
        "width": 0.8,
        "x": 0.1,
        "y": 0.1
       },
       "content": {
        "cell": "58d3f034-4bf4-46b0-bd9f-18245b29c0ac",
        "part": "whole"
       },
       "id": "6b3fc3da-4d65-42f2-8d9c-0d238f9aa9af"
      }
     }
    },
    "c8a21eaa-e5d2-4ee9-82b0-7e08b4ac89c0": {
     "id": "c8a21eaa-e5d2-4ee9-82b0-7e08b4ac89c0",
     "prev": "6d969d0d-f009-4922-a4d2-8bedec46ccb4",
     "regions": {
      "850965fc-b63b-43dc-9c5b-928f0a7051be": {
       "attrs": {
        "height": 0.8,
        "width": 0.8,
        "x": 0.1,
        "y": 0.1
       },
       "content": {
        "cell": "1c1f88ef-ddee-419b-b47b-5bf0dd9d568f",
        "part": "whole"
       },
       "id": "850965fc-b63b-43dc-9c5b-928f0a7051be"
      }
     }
    },
    "cb6abaff-0c89-4618-81c9-dfb6def096b2": {
     "id": "cb6abaff-0c89-4618-81c9-dfb6def096b2",
     "prev": "d4191e74-6533-4e78-a002-b38d90856993",
     "regions": {
      "619bbc44-9f25-465f-be9a-cf0f180985af": {
       "attrs": {
        "height": 0.8,
        "width": 0.8,
        "x": 0.1,
        "y": 0.1
       },
       "content": {
        "cell": "e145ce34-7843-47f0-bab3-058dbe65a951",
        "part": "whole"
       },
       "id": "619bbc44-9f25-465f-be9a-cf0f180985af"
      }
     }
    },
    "cbbb07b3-498b-43f5-b3f7-446bea97064a": {
     "id": "cbbb07b3-498b-43f5-b3f7-446bea97064a",
     "prev": "4e9d80e1-5291-49ef-b7e7-eb7157e8f4a3",
     "regions": {
      "921ef546-3e2a-4cd4-b345-06d632c49739": {
       "attrs": {
        "height": 0.8,
        "width": 0.8,
        "x": 0.1,
        "y": 0.1
       },
       "content": {
        "cell": "b33b393f-baa2-4e13-8b41-98c1d9747844",
        "part": "whole"
       },
       "id": "921ef546-3e2a-4cd4-b345-06d632c49739"
      }
     }
    },
    "cc0d06ab-e7d6-4cdf-a3f2-fbf31e677e72": {
     "id": "cc0d06ab-e7d6-4cdf-a3f2-fbf31e677e72",
     "prev": "80746e4a-55be-4ffb-bb23-0ebac11c10ec",
     "regions": {
      "89bbe9e2-8ca6-43c5-8fb5-47f33387c228": {
       "attrs": {
        "height": 0.8,
        "width": 0.8,
        "x": 0.1,
        "y": 0.1
       },
       "content": {
        "cell": "5406f817-187c-4699-9a70-5641eb2e80cb",
        "part": "whole"
       },
       "id": "89bbe9e2-8ca6-43c5-8fb5-47f33387c228"
      }
     }
    },
    "d4191e74-6533-4e78-a002-b38d90856993": {
     "id": "d4191e74-6533-4e78-a002-b38d90856993",
     "prev": "394789f1-4bc6-4b2e-a963-3db36e36996b",
     "regions": {
      "5f57c351-eee6-4b21-9816-8ede7575557e": {
       "attrs": {
        "height": 0.8,
        "width": 0.8,
        "x": 0.1,
        "y": 0.1
       },
       "content": {
        "cell": "ef36be8c-27ab-4961-9218-2d4f5234db3c",
        "part": "whole"
       },
       "id": "5f57c351-eee6-4b21-9816-8ede7575557e"
      }
     }
    },
    "d430f02a-3d46-409a-bf69-c71d44bcdc14": {
     "id": "d430f02a-3d46-409a-bf69-c71d44bcdc14",
     "prev": "c2c86084-a81c-448e-9e2e-53cf31374d61",
     "regions": {
      "d7f21525-8307-4ed1-96ce-a3839875fcb3": {
       "attrs": {
        "height": 0.8,
        "width": 0.8,
        "x": 0.1,
        "y": 0.1
       },
       "content": {
        "cell": "983546ef-e6a6-4f74-97da-008bcbceefac",
        "part": "whole"
       },
       "id": "d7f21525-8307-4ed1-96ce-a3839875fcb3"
      }
     }
    },
    "d56a3ba3-9b3d-426a-803d-c2975df2988e": {
     "id": "d56a3ba3-9b3d-426a-803d-c2975df2988e",
     "prev": "4d9a51a9-98fb-4647-aa84-4ad81cdd68ef",
     "regions": {
      "ed8f527b-5c11-429e-8eb4-b50ba088ffb8": {
       "attrs": {
        "height": 0.8,
        "width": 0.8,
        "x": 0.1,
        "y": 0.1
       },
       "content": {
        "cell": "3e640779-f697-4a90-82c4-998053c2f863",
        "part": "whole"
       },
       "id": "ed8f527b-5c11-429e-8eb4-b50ba088ffb8"
      }
     }
    },
    "d9faf521-2d9a-43fc-a42b-80f9a77dff62": {
     "id": "d9faf521-2d9a-43fc-a42b-80f9a77dff62",
     "prev": "cc0d06ab-e7d6-4cdf-a3f2-fbf31e677e72",
     "regions": {
      "b8e416ec-eea5-421a-afca-deda3ff363f7": {
       "attrs": {
        "height": 0.8,
        "width": 0.8,
        "x": 0.1,
        "y": 0.1
       },
       "content": {
        "cell": "8d707134-9fc5-4726-8632-ff8adcc5874b",
        "part": "whole"
       },
       "id": "b8e416ec-eea5-421a-afca-deda3ff363f7"
      }
     }
    },
    "e0ace681-763e-40b1-8be3-afc19c396e2f": {
     "id": "e0ace681-763e-40b1-8be3-afc19c396e2f",
     "prev": "d9faf521-2d9a-43fc-a42b-80f9a77dff62",
     "regions": {
      "38b4d06e-f9c5-4b18-9e06-3c06d2fe5337": {
       "attrs": {
        "height": 0.8,
        "width": 0.8,
        "x": 0.1,
        "y": 0.1
       },
       "content": {
        "cell": "42eaeda6-8cad-4c62-bb03-686f4ff6f403",
        "part": "whole"
       },
       "id": "38b4d06e-f9c5-4b18-9e06-3c06d2fe5337"
      }
     }
    },
    "e40d996e-9b03-4ba2-9a74-89f0aa3b8932": {
     "id": "e40d996e-9b03-4ba2-9a74-89f0aa3b8932",
     "prev": "1272a6a9-7016-4076-9165-0ddd3fa346ff",
     "regions": {
      "04a59772-617b-4790-b620-06924d80a6c9": {
       "attrs": {
        "height": 0.8,
        "width": 0.8,
        "x": 0.1,
        "y": 0.1
       },
       "content": {
        "cell": "96ec19e4-c4c9-4aa4-8029-e08e502ee974",
        "part": "whole"
       },
       "id": "04a59772-617b-4790-b620-06924d80a6c9"
      }
     }
    },
    "e904d68a-8788-4014-8de4-b632db85924d": {
     "id": "e904d68a-8788-4014-8de4-b632db85924d",
     "prev": "11d81164-7047-4fac-b9fe-c5fa1cbb24ba",
     "regions": {
      "cf4875b6-f638-4fb6-a461-2a837da3f03a": {
       "attrs": {
        "height": 0.8,
        "width": 0.8,
        "x": 0.1,
        "y": 0.1
       },
       "content": {
        "cell": "4b5bccd4-334d-4eeb-8a90-b4b2385f1046",
        "part": "whole"
       },
       "id": "cf4875b6-f638-4fb6-a461-2a837da3f03a"
      }
     }
    },
    "e934b62f-92a3-44e5-adf5-cbec0ac38c76": {
     "id": "e934b62f-92a3-44e5-adf5-cbec0ac38c76",
     "prev": "e40d996e-9b03-4ba2-9a74-89f0aa3b8932",
     "regions": {
      "b0bc2fea-b762-484d-b960-0b0bc629ee6d": {
       "attrs": {
        "height": 0.8,
        "width": 0.8,
        "x": 0.1,
        "y": 0.1
       },
       "content": {
        "cell": "2e26bfb3-7c9d-4c17-bbf4-bcc3d06fc8c1",
        "part": "whole"
       },
       "id": "b0bc2fea-b762-484d-b960-0b0bc629ee6d"
      }
     }
    },
    "edcf0f8a-1c46-4cb6-81ae-48b8b2919bf4": {
     "id": "edcf0f8a-1c46-4cb6-81ae-48b8b2919bf4",
     "prev": "6f7b624a-d5e0-4a37-bac2-e10ff8fd7f12",
     "regions": {
      "d41dfdf5-5cf4-4ab3-9002-88030c2b9f1a": {
       "attrs": {
        "height": 0.8,
        "width": 0.8,
        "x": 0.1,
        "y": 0.1
       },
       "content": {
        "cell": "7d0426ab-c490-46dd-bde3-7e5693f15296",
        "part": "whole"
       },
       "id": "d41dfdf5-5cf4-4ab3-9002-88030c2b9f1a"
      }
     }
    },
    "ee5c3e81-0c9f-4811-89b2-b46e5eed5328": {
     "id": "ee5c3e81-0c9f-4811-89b2-b46e5eed5328",
     "prev": "76a3cfdf-3fb8-4164-9c30-8e51e3849cf0",
     "regions": {
      "0861e38a-cba0-4097-a42c-b36378978b52": {
       "attrs": {
        "height": 0.8,
        "width": 0.8,
        "x": 0.1,
        "y": 0.1
       },
       "content": {
        "cell": "f2d731ea-a4f8-45bb-9671-6ca10aa19189",
        "part": "whole"
       },
       "id": "0861e38a-cba0-4097-a42c-b36378978b52"
      }
     }
    },
    "f8b67542-7616-47bf-a785-5b8fcb7479db": {
     "id": "f8b67542-7616-47bf-a785-5b8fcb7479db",
     "prev": "ee5c3e81-0c9f-4811-89b2-b46e5eed5328",
     "regions": {
      "a86cd7e8-a083-4dde-82f0-4d7d46efd21e": {
       "attrs": {
        "height": 0.8,
        "width": 0.8,
        "x": 0.1,
        "y": 0.1
       },
       "content": {
        "cell": "0fab704d-7d6b-45a9-b274-3b5c7fc7791f",
        "part": "whole"
       },
       "id": "a86cd7e8-a083-4dde-82f0-4d7d46efd21e"
      }
     }
    },
    "faff6b27-1b0e-47cd-874d-3f0f6ff002a2": {
     "id": "faff6b27-1b0e-47cd-874d-3f0f6ff002a2",
     "prev": "753f47a8-d105-4749-9ca3-7ac8c6b8ce06",
     "regions": {
      "7cf3f859-7e11-4ca5-b53d-72c330e41387": {
       "attrs": {
        "height": 0.8,
        "width": 0.8,
        "x": 0.1,
        "y": 0.1
       },
       "content": {
        "cell": "0aaf411d-a8a3-4e35-bd7a-f7c7c4d3e13a",
        "part": "whole"
       },
       "id": "7cf3f859-7e11-4ca5-b53d-72c330e41387"
      }
     }
    }
   },
   "themes": {}
  }
 },
 "nbformat": 4,
 "nbformat_minor": 1
}
